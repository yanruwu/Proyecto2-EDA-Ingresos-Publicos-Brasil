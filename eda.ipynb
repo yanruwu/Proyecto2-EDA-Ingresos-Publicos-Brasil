{
 "cells": [
  {
   "cell_type": "markdown",
   "metadata": {},
   "source": [
    "## Exploratory Data Analysis"
   ]
  },
  {
   "cell_type": "code",
   "execution_count": 1,
   "metadata": {},
   "outputs": [],
   "source": [
    "import pandas as pd\n",
    "import numpy as np\n",
    "import matplotlib.pyplot as plt\n",
    "import seaborn as sns"
   ]
  },
  {
   "cell_type": "code",
   "execution_count": 5,
   "metadata": {},
   "outputs": [],
   "source": [
    "df = pd.read_csv(\"datos/df_clean.csv\", index_col=0)"
   ]
  },
  {
   "cell_type": "code",
   "execution_count": 6,
   "metadata": {},
   "outputs": [
    {
     "data": {
      "text/plain": [
       "Index(['superior_body_code', 'name_superior_body', 'organ_code', 'organ_name',\n",
       "       'management_unit_code', 'name_management_unit', 'economy_category',\n",
       "       'source_revenue', 'recipe_species', 'detailing',\n",
       "       'updated_estimated_value', 'value_launched', 'realized_value',\n",
       "       'percentage_realized', 'release_date', 'financial_year',\n",
       "       'economy_subcategory'],\n",
       "      dtype='object')"
      ]
     },
     "execution_count": 6,
     "metadata": {},
     "output_type": "execute_result"
    }
   ],
   "source": [
    "df.columns"
   ]
  },
  {
   "cell_type": "markdown",
   "metadata": {},
   "source": [
    "Vamos a crear un nuevo dataframe que contenga los ingresos por cateogoría económica."
   ]
  },
  {
   "cell_type": "code",
   "execution_count": 32,
   "metadata": {},
   "outputs": [
    {
     "data": {
      "text/html": [
       "<div>\n",
       "<style scoped>\n",
       "    .dataframe tbody tr th:only-of-type {\n",
       "        vertical-align: middle;\n",
       "    }\n",
       "\n",
       "    .dataframe tbody tr th {\n",
       "        vertical-align: top;\n",
       "    }\n",
       "\n",
       "    .dataframe thead th {\n",
       "        text-align: right;\n",
       "    }\n",
       "</style>\n",
       "<table border=\"1\" class=\"dataframe\">\n",
       "  <thead>\n",
       "    <tr style=\"text-align: right;\">\n",
       "      <th></th>\n",
       "      <th></th>\n",
       "      <th>realized_value</th>\n",
       "      <th>percentage of total</th>\n",
       "    </tr>\n",
       "    <tr>\n",
       "      <th>economy_category</th>\n",
       "      <th>economy_subcategory</th>\n",
       "      <th></th>\n",
       "      <th></th>\n",
       "    </tr>\n",
       "  </thead>\n",
       "  <tbody>\n",
       "    <tr>\n",
       "      <th rowspan=\"2\" valign=\"top\">Receitas Correntes</th>\n",
       "      <th>extra-orçamentárias</th>\n",
       "      <td>1.341424e+13</td>\n",
       "      <td>0.5073</td>\n",
       "    </tr>\n",
       "    <tr>\n",
       "      <th>intra-orçamentárias</th>\n",
       "      <td>2.808236e+11</td>\n",
       "      <td>0.0106</td>\n",
       "    </tr>\n",
       "    <tr>\n",
       "      <th rowspan=\"2\" valign=\"top\">Receitas de Capital</th>\n",
       "      <th>extra-orçamentárias</th>\n",
       "      <td>1.237381e+13</td>\n",
       "      <td>0.4680</td>\n",
       "    </tr>\n",
       "    <tr>\n",
       "      <th>intra-orçamentárias</th>\n",
       "      <td>2.142953e+10</td>\n",
       "      <td>0.0008</td>\n",
       "    </tr>\n",
       "    <tr>\n",
       "      <th>Sem informação</th>\n",
       "      <th>sem informação</th>\n",
       "      <td>3.498643e+11</td>\n",
       "      <td>0.0132</td>\n",
       "    </tr>\n",
       "  </tbody>\n",
       "</table>\n",
       "</div>"
      ],
      "text/plain": [
       "                                         realized_value  percentage of total\n",
       "economy_category    economy_subcategory                                     \n",
       "Receitas Correntes  extra-orçamentárias    1.341424e+13               0.5073\n",
       "                    intra-orçamentárias    2.808236e+11               0.0106\n",
       "Receitas de Capital extra-orçamentárias    1.237381e+13               0.4680\n",
       "                    intra-orçamentárias    2.142953e+10               0.0008\n",
       "Sem informação      sem informação         3.498643e+11               0.0132"
      ]
     },
     "execution_count": 32,
     "metadata": {},
     "output_type": "execute_result"
    }
   ],
   "source": [
    "df_value_per_category = df.groupby([\"economy_category\",\"economy_subcategory\"])[[\"realized_value\"]].sum()\n",
    "df_value_per_category[\"percentage of total\"] = (df_value_per_category[\"realized_value\"]/df[\"realized_value\"].dropna().sum()).round(4)\n",
    "\n",
    "df_value_per_category"
   ]
  },
  {
   "cell_type": "markdown",
   "metadata": {},
   "source": [
    "Vemos que ambas categorías principales (corrientes y de capital), reportan una proporción de ingresos totales comparable, aunque ligeramente superior en los ingresos corrientes, y que predominan aquellos que no son inter gubernamentales."
   ]
  },
  {
   "cell_type": "markdown",
   "metadata": {},
   "source": [
    "Ahora vamos a calcular la diferencia promedio entre ingresos previstos y realizados por categoría. Para ello crearemos una nueva columna en nuestro dataframe que contenga las diferencias entre estos datos."
   ]
  },
  {
   "cell_type": "code",
   "execution_count": 37,
   "metadata": {},
   "outputs": [
    {
     "data": {
      "text/html": [
       "<div>\n",
       "<style scoped>\n",
       "    .dataframe tbody tr th:only-of-type {\n",
       "        vertical-align: middle;\n",
       "    }\n",
       "\n",
       "    .dataframe tbody tr th {\n",
       "        vertical-align: top;\n",
       "    }\n",
       "\n",
       "    .dataframe thead th {\n",
       "        text-align: right;\n",
       "    }\n",
       "</style>\n",
       "<table border=\"1\" class=\"dataframe\">\n",
       "  <thead>\n",
       "    <tr style=\"text-align: right;\">\n",
       "      <th></th>\n",
       "      <th></th>\n",
       "      <th>difference_est_realized</th>\n",
       "    </tr>\n",
       "    <tr>\n",
       "      <th>economy_category</th>\n",
       "      <th>economy_subcategory</th>\n",
       "      <th></th>\n",
       "    </tr>\n",
       "  </thead>\n",
       "  <tbody>\n",
       "    <tr>\n",
       "      <th rowspan=\"2\" valign=\"top\">Receitas Correntes</th>\n",
       "      <th>extra-orçamentárias</th>\n",
       "      <td>-4.778544e+05</td>\n",
       "    </tr>\n",
       "    <tr>\n",
       "      <th>intra-orçamentárias</th>\n",
       "      <td>-2.538572e+05</td>\n",
       "    </tr>\n",
       "    <tr>\n",
       "      <th rowspan=\"2\" valign=\"top\">Receitas de Capital</th>\n",
       "      <th>extra-orçamentárias</th>\n",
       "      <td>5.451779e+07</td>\n",
       "    </tr>\n",
       "    <tr>\n",
       "      <th>intra-orçamentárias</th>\n",
       "      <td>-1.106782e+08</td>\n",
       "    </tr>\n",
       "    <tr>\n",
       "      <th>Sem informação</th>\n",
       "      <th>sem informação</th>\n",
       "      <td>3.935506e+07</td>\n",
       "    </tr>\n",
       "  </tbody>\n",
       "</table>\n",
       "</div>"
      ],
      "text/plain": [
       "                                         difference_est_realized\n",
       "economy_category    economy_subcategory                         \n",
       "Receitas Correntes  extra-orçamentárias            -4.778544e+05\n",
       "                    intra-orçamentárias            -2.538572e+05\n",
       "Receitas de Capital extra-orçamentárias             5.451779e+07\n",
       "                    intra-orçamentárias            -1.106782e+08\n",
       "Sem informação      sem informação                  3.935506e+07"
      ]
     },
     "execution_count": 37,
     "metadata": {},
     "output_type": "execute_result"
    }
   ],
   "source": [
    "df[\"difference_est_realized\"] = (df[\"updated_estimated_value\"]-df[\"realized_value\"])\n",
    "df.groupby([\"economy_category\", \"economy_subcategory\"])[[\"difference_est_realized\"]].mean()"
   ]
  },
  {
   "cell_type": "markdown",
   "metadata": {},
   "source": [
    "Sin embargo, en secciones previas (limpieza de datos) podíamos observar muchos casos en los que el valor estimado era 0, por lo que el hecho de que tantos valores sean negativos se dan por este hecho. Vamos a calcular los casos donde el valor estimado no existe pero el realizado sí."
   ]
  },
  {
   "cell_type": "code",
   "execution_count": 44,
   "metadata": {},
   "outputs": [
    {
     "data": {
      "text/plain": [
       "'Las condiciones se cumplen en el 92.46% de los casos totales'"
      ]
     },
     "execution_count": 44,
     "metadata": {},
     "output_type": "execute_result"
    }
   ],
   "source": [
    "no_est_yes_realized = (df[\"updated_estimated_value\"].isna() | df[\"updated_estimated_value\"] == 0) & (df[\"realized_value\"].notna() & df[\"realized_value\"] != 0)\n",
    "df_noest = df[no_est_yes_realized]\n",
    "f'Las condiciones se cumplen en el {df_noest.shape[0]/df.shape[0]*100:.2f}% de los casos totales'"
   ]
  },
  {
   "cell_type": "markdown",
   "metadata": {},
   "source": [
    "Vemos que es un caso muy común. Esto puede ser porque estos ingresos no estuvieron planificados al inicio, y finalmente reportaron ingresos, o simplemente un error de registro. Si cogemos estos datos vemos que de hecho las medias de las diferencias disminuyen (más negativas) en todos los casos, indicando que es la principal fuente de estos datos tan negativos."
   ]
  },
  {
   "cell_type": "code",
   "execution_count": 45,
   "metadata": {},
   "outputs": [
    {
     "name": "stderr",
     "output_type": "stream",
     "text": [
      "C:\\Users\\yanru\\AppData\\Local\\Temp\\ipykernel_31548\\1511455330.py:1: SettingWithCopyWarning: \n",
      "A value is trying to be set on a copy of a slice from a DataFrame.\n",
      "Try using .loc[row_indexer,col_indexer] = value instead\n",
      "\n",
      "See the caveats in the documentation: https://pandas.pydata.org/pandas-docs/stable/user_guide/indexing.html#returning-a-view-versus-a-copy\n",
      "  df_noest[\"difference_est_realized\"] = (df_noest[\"updated_estimated_value\"]-df_noest[\"realized_value\"])\n"
     ]
    },
    {
     "data": {
      "text/html": [
       "<div>\n",
       "<style scoped>\n",
       "    .dataframe tbody tr th:only-of-type {\n",
       "        vertical-align: middle;\n",
       "    }\n",
       "\n",
       "    .dataframe tbody tr th {\n",
       "        vertical-align: top;\n",
       "    }\n",
       "\n",
       "    .dataframe thead th {\n",
       "        text-align: right;\n",
       "    }\n",
       "</style>\n",
       "<table border=\"1\" class=\"dataframe\">\n",
       "  <thead>\n",
       "    <tr style=\"text-align: right;\">\n",
       "      <th></th>\n",
       "      <th></th>\n",
       "      <th>difference_est_realized</th>\n",
       "    </tr>\n",
       "    <tr>\n",
       "      <th>economy_category</th>\n",
       "      <th>economy_subcategory</th>\n",
       "      <th></th>\n",
       "    </tr>\n",
       "  </thead>\n",
       "  <tbody>\n",
       "    <tr>\n",
       "      <th rowspan=\"2\" valign=\"top\">Receitas Correntes</th>\n",
       "      <th>extra-orçamentárias</th>\n",
       "      <td>-1.121207e+07</td>\n",
       "    </tr>\n",
       "    <tr>\n",
       "      <th>intra-orçamentárias</th>\n",
       "      <td>-1.315709e+07</td>\n",
       "    </tr>\n",
       "    <tr>\n",
       "      <th rowspan=\"2\" valign=\"top\">Receitas de Capital</th>\n",
       "      <th>extra-orçamentárias</th>\n",
       "      <td>-3.530432e+08</td>\n",
       "    </tr>\n",
       "    <tr>\n",
       "      <th>intra-orçamentárias</th>\n",
       "      <td>-2.451876e+08</td>\n",
       "    </tr>\n",
       "    <tr>\n",
       "      <th>Sem informação</th>\n",
       "      <th>sem informação</th>\n",
       "      <td>-1.620202e+07</td>\n",
       "    </tr>\n",
       "  </tbody>\n",
       "</table>\n",
       "</div>"
      ],
      "text/plain": [
       "                                         difference_est_realized\n",
       "economy_category    economy_subcategory                         \n",
       "Receitas Correntes  extra-orçamentárias            -1.121207e+07\n",
       "                    intra-orçamentárias            -1.315709e+07\n",
       "Receitas de Capital extra-orçamentárias            -3.530432e+08\n",
       "                    intra-orçamentárias            -2.451876e+08\n",
       "Sem informação      sem informação                 -1.620202e+07"
      ]
     },
     "execution_count": 45,
     "metadata": {},
     "output_type": "execute_result"
    }
   ],
   "source": [
    "df_noest[\"difference_est_realized\"] = (df_noest[\"updated_estimated_value\"]-df_noest[\"realized_value\"])\n",
    "df_noest.groupby([\"economy_category\", \"economy_subcategory\"])[[\"difference_est_realized\"]].mean()"
   ]
  },
  {
   "cell_type": "markdown",
   "metadata": {},
   "source": [
    "Aclarar que cuanto más negativo, más retorno respecto a lo estimado."
   ]
  },
  {
   "cell_type": "markdown",
   "metadata": {},
   "source": [
    "Podemos realizar un análisis en los datos sin estos casos, el cual podría arrojar un poco más de luz en el análisis de las categorías, aunque hay que tener en cuenta que esta muestra representa menos de un 8% de los casos totales."
   ]
  },
  {
   "cell_type": "code",
   "execution_count": 49,
   "metadata": {},
   "outputs": [
    {
     "name": "stderr",
     "output_type": "stream",
     "text": [
      "C:\\Users\\yanru\\AppData\\Local\\Temp\\ipykernel_31548\\3129268069.py:2: SettingWithCopyWarning: \n",
      "A value is trying to be set on a copy of a slice from a DataFrame.\n",
      "Try using .loc[row_indexer,col_indexer] = value instead\n",
      "\n",
      "See the caveats in the documentation: https://pandas.pydata.org/pandas-docs/stable/user_guide/indexing.html#returning-a-view-versus-a-copy\n",
      "  df_con_est[\"difference_est_realized\"] = (df_con_est[\"updated_estimated_value\"]-df_con_est[\"realized_value\"])\n"
     ]
    },
    {
     "data": {
      "text/html": [
       "<div>\n",
       "<style scoped>\n",
       "    .dataframe tbody tr th:only-of-type {\n",
       "        vertical-align: middle;\n",
       "    }\n",
       "\n",
       "    .dataframe tbody tr th {\n",
       "        vertical-align: top;\n",
       "    }\n",
       "\n",
       "    .dataframe thead th {\n",
       "        text-align: right;\n",
       "    }\n",
       "</style>\n",
       "<table border=\"1\" class=\"dataframe\">\n",
       "  <thead>\n",
       "    <tr style=\"text-align: right;\">\n",
       "      <th></th>\n",
       "      <th></th>\n",
       "      <th>difference_est_realized</th>\n",
       "    </tr>\n",
       "    <tr>\n",
       "      <th>economy_category</th>\n",
       "      <th>economy_subcategory</th>\n",
       "      <th></th>\n",
       "    </tr>\n",
       "  </thead>\n",
       "  <tbody>\n",
       "    <tr>\n",
       "      <th rowspan=\"2\" valign=\"top\">Receitas Correntes</th>\n",
       "      <th>extra-orçamentárias</th>\n",
       "      <td>4.256730e+08</td>\n",
       "    </tr>\n",
       "    <tr>\n",
       "      <th>intra-orçamentárias</th>\n",
       "      <td>2.198954e+08</td>\n",
       "    </tr>\n",
       "    <tr>\n",
       "      <th rowspan=\"2\" valign=\"top\">Receitas de Capital</th>\n",
       "      <th>extra-orçamentárias</th>\n",
       "      <td>7.437965e+09</td>\n",
       "    </tr>\n",
       "    <tr>\n",
       "      <th>intra-orçamentárias</th>\n",
       "      <td>5.404206e+09</td>\n",
       "    </tr>\n",
       "    <tr>\n",
       "      <th>Sem informação</th>\n",
       "      <th>sem informação</th>\n",
       "      <td>1.341034e+09</td>\n",
       "    </tr>\n",
       "  </tbody>\n",
       "</table>\n",
       "</div>"
      ],
      "text/plain": [
       "                                         difference_est_realized\n",
       "economy_category    economy_subcategory                         \n",
       "Receitas Correntes  extra-orçamentárias             4.256730e+08\n",
       "                    intra-orçamentárias             2.198954e+08\n",
       "Receitas de Capital extra-orçamentárias             7.437965e+09\n",
       "                    intra-orçamentárias             5.404206e+09\n",
       "Sem informação      sem informação                  1.341034e+09"
      ]
     },
     "execution_count": 49,
     "metadata": {},
     "output_type": "execute_result"
    }
   ],
   "source": [
    "df_con_est = df[~no_est_yes_realized]\n",
    "df_con_est[\"difference_est_realized\"] = (df_con_est[\"updated_estimated_value\"]-df_con_est[\"realized_value\"])\n",
    "df_con_est.groupby([\"economy_category\", \"economy_subcategory\"])[[\"difference_est_realized\"]].mean()"
   ]
  },
  {
   "cell_type": "markdown",
   "metadata": {},
   "source": [
    "Ahora los datos son todos positivos, lo cual indicaría que se ha recaudado en todos los casos una cantidad menor a la estimada inicialmente. Sin embargo, al igual que antes, registros donde sí que había una estimación pero no un valor realizado podrían estar detrás de estos valores tan grandes que obtenemos. Estos casos se podrían interpretar como registros donde se estimó una cantidad inicial que al final no recaudaron nada o simplemente, una vez más, un fallo en los registros. Una explicación más podría ser que este registro indica un ingreso aún no recibido, por lo que en el campo de valor realizado aparecería un vacío."
   ]
  },
  {
   "cell_type": "code",
   "execution_count": 54,
   "metadata": {},
   "outputs": [
    {
     "name": "stderr",
     "output_type": "stream",
     "text": [
      "C:\\Users\\yanru\\AppData\\Local\\Temp\\ipykernel_31548\\3219727869.py:2: SettingWithCopyWarning: \n",
      "A value is trying to be set on a copy of a slice from a DataFrame.\n",
      "Try using .loc[row_indexer,col_indexer] = value instead\n",
      "\n",
      "See the caveats in the documentation: https://pandas.pydata.org/pandas-docs/stable/user_guide/indexing.html#returning-a-view-versus-a-copy\n",
      "  df_con_est_realized[\"difference_est_realized\"] = (df_con_est_realized[\"updated_estimated_value\"]-df_con_est_realized[\"realized_value\"])\n"
     ]
    },
    {
     "data": {
      "text/html": [
       "<div>\n",
       "<style scoped>\n",
       "    .dataframe tbody tr th:only-of-type {\n",
       "        vertical-align: middle;\n",
       "    }\n",
       "\n",
       "    .dataframe tbody tr th {\n",
       "        vertical-align: top;\n",
       "    }\n",
       "\n",
       "    .dataframe thead th {\n",
       "        text-align: right;\n",
       "    }\n",
       "</style>\n",
       "<table border=\"1\" class=\"dataframe\">\n",
       "  <thead>\n",
       "    <tr style=\"text-align: right;\">\n",
       "      <th></th>\n",
       "      <th></th>\n",
       "      <th>difference_est_realized</th>\n",
       "    </tr>\n",
       "    <tr>\n",
       "      <th>economy_category</th>\n",
       "      <th>economy_subcategory</th>\n",
       "      <th></th>\n",
       "    </tr>\n",
       "  </thead>\n",
       "  <tbody>\n",
       "    <tr>\n",
       "      <th rowspan=\"2\" valign=\"top\">Receitas Correntes</th>\n",
       "      <th>extra-orçamentárias</th>\n",
       "      <td>4.505536e+08</td>\n",
       "    </tr>\n",
       "    <tr>\n",
       "      <th>intra-orçamentárias</th>\n",
       "      <td>1.193413e+08</td>\n",
       "    </tr>\n",
       "    <tr>\n",
       "      <th rowspan=\"2\" valign=\"top\">Receitas de Capital</th>\n",
       "      <th>extra-orçamentárias</th>\n",
       "      <td>2.129793e+10</td>\n",
       "    </tr>\n",
       "    <tr>\n",
       "      <th>intra-orçamentárias</th>\n",
       "      <td>NaN</td>\n",
       "    </tr>\n",
       "    <tr>\n",
       "      <th>Sem informação</th>\n",
       "      <th>sem informação</th>\n",
       "      <td>4.687883e+09</td>\n",
       "    </tr>\n",
       "  </tbody>\n",
       "</table>\n",
       "</div>"
      ],
      "text/plain": [
       "                                         difference_est_realized\n",
       "economy_category    economy_subcategory                         \n",
       "Receitas Correntes  extra-orçamentárias             4.505536e+08\n",
       "                    intra-orçamentárias             1.193413e+08\n",
       "Receitas de Capital extra-orçamentárias             2.129793e+10\n",
       "                    intra-orçamentárias                      NaN\n",
       "Sem informação      sem informação                  4.687883e+09"
      ]
     },
     "execution_count": 54,
     "metadata": {},
     "output_type": "execute_result"
    }
   ],
   "source": [
    "df_con_est_realized = df_con_est[(df_con_est[\"realized_value\"] != 0) & (df_con_est[\"realized_value\"].notna())]\n",
    "df_con_est_realized[\"difference_est_realized\"] = (df_con_est_realized[\"updated_estimated_value\"]-df_con_est_realized[\"realized_value\"])\n",
    "df_con_est_realized.groupby([\"economy_category\", \"economy_subcategory\"])[[\"difference_est_realized\"]].mean()"
   ]
  },
  {
   "cell_type": "markdown",
   "metadata": {},
   "source": [
    "Vemos ahora que si cogemos solo datos con ambos registros de valores obtenemos algo bastante similar al caso anterior (casi todos en el mismo orden de magnitud). Esto puede indicar que los casos sin valor realizado no hayan supuesto un gran cambio con el caso anterior."
   ]
  },
  {
   "cell_type": "markdown",
   "metadata": {},
   "source": [
    "Como conclusión de este apartado, sería crucial investigar el origen de los valores 0 o nulos de las columnas de valor estimado y realizado, así como su significado en nuestros datos. Esto nos permitiría decidir si corresponde que se eliminen o se haga un análisis separado con éstos. \n",
    "\n",
    "Con el análisis realizado podríamos deducir que, sin descartar ningún registro, el gobierno brasileño consigue batir sus estimaciones en ingresos corrientes, tanto extra como inter gubernamentales, mientras que en los ingresos de capital ingresa menos de lo estimado, específicamente en los movimientos extra gubernamentales. Este suceso no ocurre en aquellos de interior.\n",
    "\n",
    "Eliminando los registros sin estimación nos otorga unos resultados bastante diferentes, ya que en este caso ninguna categoría económica es capaz de ingresar más de lo estimado. De hecho, basado en estos datos, de media el gobierno tiene unos ingresos bastante más bajos a lo que estiman, a lo largo de todas las categorías. Cabe indicar que, como ha sido mencionado previamente, estos datos podrían no ser representativos de la realidad, ya que no tenemos información suficiente sobre los vacíos ni los 0 en ninguno de los valores, tanto estimados como realizados."
   ]
  },
  {
   "cell_type": "markdown",
   "metadata": {},
   "source": []
  }
 ],
 "metadata": {
  "kernelspec": {
   "display_name": "Python 3",
   "language": "python",
   "name": "python3"
  },
  "language_info": {
   "codemirror_mode": {
    "name": "ipython",
    "version": 3
   },
   "file_extension": ".py",
   "mimetype": "text/x-python",
   "name": "python",
   "nbconvert_exporter": "python",
   "pygments_lexer": "ipython3",
   "version": "3.11.9"
  }
 },
 "nbformat": 4,
 "nbformat_minor": 2
}
