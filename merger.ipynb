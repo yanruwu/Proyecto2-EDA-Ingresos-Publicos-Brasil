{
 "cells": [
  {
   "cell_type": "markdown",
   "metadata": {},
   "source": [
    "# Proyecto 2: EDA Ingresos Públicos de Brasil"
   ]
  },
  {
   "cell_type": "markdown",
   "metadata": {},
   "source": [
    "## 1. Lectura y Exploración Inicial"
   ]
  },
  {
   "cell_type": "code",
   "execution_count": 2,
   "metadata": {},
   "outputs": [],
   "source": [
    "import pandas as pd\n",
    "import numpy as np\n",
    "import matplotlib.pyplot as plt\n",
    "import seaborn as sns\n",
    "from functools import reduce\n",
    "import translators as ts\n",
    "import os"
   ]
  },
  {
   "cell_type": "markdown",
   "metadata": {},
   "source": [
    "Cogemos los nombres de los archivos para luego importarlos."
   ]
  },
  {
   "cell_type": "code",
   "execution_count": 3,
   "metadata": {},
   "outputs": [
    {
     "name": "stdout",
     "output_type": "stream",
     "text": [
      "['datos-2013.csv', 'datos-2014.csv', 'datos-2015.csv', 'datos-2016.csv', 'datos-2017.csv', 'datos-2018.csv', 'datos-2019.csv', 'datos-2020.csv', 'datos-2021.csv']\n"
     ]
    }
   ],
   "source": [
    "list_df_str = os.listdir(r\"datos\")[:-1]\n",
    "print(list_df_str)"
   ]
  },
  {
   "cell_type": "markdown",
   "metadata": {},
   "source": [
    "Generamos una lista de dataframes."
   ]
  },
  {
   "cell_type": "code",
   "execution_count": 4,
   "metadata": {},
   "outputs": [],
   "source": [
    "dfs_initial = list(map(lambda s: pd.read_csv(r\"datos/\"+s, sep = \";\"), list_df_str))"
   ]
  },
  {
   "cell_type": "markdown",
   "metadata": {},
   "source": [
    "Lista con los años de ejercicio de cada informe."
   ]
  },
  {
   "cell_type": "code",
   "execution_count": 5,
   "metadata": {},
   "outputs": [
    {
     "name": "stdout",
     "output_type": "stream",
     "text": [
      "[2013, 2014, 2015, 2016, 2017, 2018, 2019, 2020, 2021]\n"
     ]
    }
   ],
   "source": [
    "yearslist = list(map(int, map(lambda x: x.split(\"-\")[1][:4], list_df_str)))\n",
    "print(yearslist)"
   ]
  },
  {
   "cell_type": "markdown",
   "metadata": {},
   "source": [
    "Creamos una función que nos rellene las filas vacías de los años, teniendo en cuenta que debe tener el valor del ejercicio."
   ]
  },
  {
   "cell_type": "code",
   "execution_count": 6,
   "metadata": {},
   "outputs": [],
   "source": [
    "def fill_years(df_list, years_list):\n",
    "    clean_dfs = []\n",
    "    i = 0\n",
    "    for df in df_list:\n",
    "        df[\"ANO EXERCÍCIO\"] = df[\"ANO EXERCÍCIO\"].fillna(years_list[i])\n",
    "        clean_dfs.append(df)\n",
    "        i+=1\n",
    "    return clean_dfs"
   ]
  },
  {
   "cell_type": "markdown",
   "metadata": {},
   "source": [
    "Comprobamos que funcione"
   ]
  },
  {
   "cell_type": "code",
   "execution_count": 7,
   "metadata": {},
   "outputs": [],
   "source": [
    "dfs = fill_years(dfs_initial, yearslist)"
   ]
  },
  {
   "cell_type": "code",
   "execution_count": 8,
   "metadata": {},
   "outputs": [
    {
     "name": "stdout",
     "output_type": "stream",
     "text": [
      "[2013.]\n",
      "[2014.]\n",
      "[2015.]\n",
      "[2016.]\n",
      "[2017.]\n",
      "[2018.]\n",
      "[2019.]\n",
      "[2020.]\n",
      "[2021.]\n"
     ]
    }
   ],
   "source": [
    "for df in dfs:\n",
    "   print(df[\"ANO EXERCÍCIO\"].unique())"
   ]
  },
  {
   "cell_type": "markdown",
   "metadata": {},
   "source": [
    "Vamos a comprobar si todos los datos tienen las mismas columnas."
   ]
  },
  {
   "cell_type": "code",
   "execution_count": 9,
   "metadata": {},
   "outputs": [
    {
     "data": {
      "text/plain": [
       "True"
      ]
     },
     "execution_count": 9,
     "metadata": {},
     "output_type": "execute_result"
    }
   ],
   "source": [
    "column_checker = []\n",
    "for i in range(len(dfs)):\n",
    "    if i == len(dfs)-1:\n",
    "        break\n",
    "    column_checker.append(all(dfs[i].columns == dfs[i+1].columns))\n",
    "all(column_checker)"
   ]
  },
  {
   "cell_type": "markdown",
   "metadata": {},
   "source": [
    "Todos los datos tienen las mismas columnas: ✅"
   ]
  },
  {
   "cell_type": "code",
   "execution_count": 10,
   "metadata": {},
   "outputs": [],
   "source": [
    "first_datayear = int(list_df_str[0].split(\"-\")[1][:4])"
   ]
  },
  {
   "cell_type": "code",
   "execution_count": 11,
   "metadata": {},
   "outputs": [
    {
     "name": "stdout",
     "output_type": "stream",
     "text": [
      "Los types de los valores son consistentes\n"
     ]
    }
   ],
   "source": [
    "if first_datayear == reduce(lambda x,y: x if np.all(x.dtypes==y.dtypes) else None, dfs)[\"ANO EXERCÍCIO\"].unique():\n",
    "    print(\"Los types de los valores son consistentes\")"
   ]
  },
  {
   "cell_type": "code",
   "execution_count": 12,
   "metadata": {},
   "outputs": [],
   "source": [
    "df_merged = pd.concat(dfs).reset_index(drop = True)"
   ]
  },
  {
   "cell_type": "code",
   "execution_count": 13,
   "metadata": {},
   "outputs": [
    {
     "data": {
      "text/plain": [
       "Index(['CÓDIGO ÓRGÃO SUPERIOR', 'NOME ÓRGÃO SUPERIOR', 'CÓDIGO ÓRGÃO',\n",
       "       'NOME ÓRGÃO', 'CÓDIGO UNIDADE GESTORA', 'NOME UNIDADE GESTORA',\n",
       "       'CATEGORIA ECONÔMICA', 'ORIGEM RECEITA', 'ESPÉCIE RECEITA',\n",
       "       'DETALHAMENTO', 'VALOR PREVISTO ATUALIZADO', 'VALOR LANÇADO',\n",
       "       'VALOR REALIZADO', 'PERCENTUAL REALIZADO', 'DATA LANÇAMENTO',\n",
       "       'ANO EXERCÍCIO'],\n",
       "      dtype='object')"
      ]
     },
     "execution_count": 13,
     "metadata": {},
     "output_type": "execute_result"
    }
   ],
   "source": [
    "df_merged.columns"
   ]
  },
  {
   "cell_type": "code",
   "execution_count": 14,
   "metadata": {},
   "outputs": [],
   "source": [
    "newcol = {i:ts.translate_text(i,  to_language = \"en\").lower().replace(r\" \",  r\"_\") for i in df_merged.columns}\n",
    "df_merged.rename(columns=newcol, inplace = True)"
   ]
  },
  {
   "cell_type": "code",
   "execution_count": 15,
   "metadata": {},
   "outputs": [
    {
     "data": {
      "text/html": [
       "<div>\n",
       "<style scoped>\n",
       "    .dataframe tbody tr th:only-of-type {\n",
       "        vertical-align: middle;\n",
       "    }\n",
       "\n",
       "    .dataframe tbody tr th {\n",
       "        vertical-align: top;\n",
       "    }\n",
       "\n",
       "    .dataframe thead th {\n",
       "        text-align: right;\n",
       "    }\n",
       "</style>\n",
       "<table border=\"1\" class=\"dataframe\">\n",
       "  <thead>\n",
       "    <tr style=\"text-align: right;\">\n",
       "      <th></th>\n",
       "      <th>superior_body_code</th>\n",
       "      <th>name_superior_body</th>\n",
       "      <th>organ_code</th>\n",
       "      <th>organ_name</th>\n",
       "      <th>management_unit_code</th>\n",
       "      <th>name_management_unit</th>\n",
       "      <th>economy_category</th>\n",
       "      <th>source_revenue</th>\n",
       "      <th>recipe_species</th>\n",
       "      <th>detailing</th>\n",
       "      <th>updated_estimated_value</th>\n",
       "      <th>value_launched</th>\n",
       "      <th>realized_value</th>\n",
       "      <th>percentage_realized</th>\n",
       "      <th>release_date</th>\n",
       "      <th>financial_year</th>\n",
       "    </tr>\n",
       "  </thead>\n",
       "  <tbody>\n",
       "    <tr>\n",
       "      <th>0</th>\n",
       "      <td>63000.0</td>\n",
       "      <td>NaN</td>\n",
       "      <td>63000.0</td>\n",
       "      <td>Advocacia-Geral da União - Unidades com víncul...</td>\n",
       "      <td>110060.0</td>\n",
       "      <td>COORD. GERAL DE ORC. FIN. E ANAL. CONT. - AGU</td>\n",
       "      <td>Receitas Correntes</td>\n",
       "      <td>Outras Receitas Correntes</td>\n",
       "      <td>Bens, Direitos e Valores Incorporados ao Patr</td>\n",
       "      <td>REC.DIVIDA ATIVA NAO TRIBUTARIA DE OUTRAS REC</td>\n",
       "      <td>0,00</td>\n",
       "      <td>0,00</td>\n",
       "      <td>1297,13</td>\n",
       "      <td>0,00</td>\n",
       "      <td>31/12/2013</td>\n",
       "      <td>2013.0</td>\n",
       "    </tr>\n",
       "    <tr>\n",
       "      <th>1</th>\n",
       "      <td>63000.0</td>\n",
       "      <td>Advocacia-Geral da União</td>\n",
       "      <td>63000.0</td>\n",
       "      <td>Advocacia-Geral da União - Unidades com víncul...</td>\n",
       "      <td>110060.0</td>\n",
       "      <td>COORD. GERAL DE ORC. FIN. E ANAL. CONT. - AGU</td>\n",
       "      <td>Receitas Correntes</td>\n",
       "      <td>Outras Receitas Correntes</td>\n",
       "      <td>Indenizações, restituições e ressarcimentos</td>\n",
       "      <td>RECUPERACAO DE DESPESAS DE EXERC. ANTERIORES</td>\n",
       "      <td>0,00</td>\n",
       "      <td>0,00</td>\n",
       "      <td>26666621,42</td>\n",
       "      <td>0,00</td>\n",
       "      <td>31/12/2013</td>\n",
       "      <td>2013.0</td>\n",
       "    </tr>\n",
       "    <tr>\n",
       "      <th>2</th>\n",
       "      <td>63000.0</td>\n",
       "      <td>Advocacia-Geral da União</td>\n",
       "      <td>63000.0</td>\n",
       "      <td>Advocacia-Geral da União - Unidades com víncul...</td>\n",
       "      <td>110060.0</td>\n",
       "      <td>COORD. GERAL DE ORC. FIN. E ANAL. CONT. - AGU</td>\n",
       "      <td>Receitas Correntes</td>\n",
       "      <td>Outras Receitas Correntes</td>\n",
       "      <td>Multas administrativas, contratuais e judicia</td>\n",
       "      <td>OUTRAS MULTAS E JUROS DE MORA</td>\n",
       "      <td>0,00</td>\n",
       "      <td>0,00</td>\n",
       "      <td>301251,13</td>\n",
       "      <td>0,00</td>\n",
       "      <td>31/12/2013</td>\n",
       "      <td>2013.0</td>\n",
       "    </tr>\n",
       "    <tr>\n",
       "      <th>3</th>\n",
       "      <td>63000.0</td>\n",
       "      <td>NaN</td>\n",
       "      <td>63000.0</td>\n",
       "      <td>Advocacia-Geral da União - Unidades com víncul...</td>\n",
       "      <td>110060.0</td>\n",
       "      <td>COORD. GERAL DE ORC. FIN. E ANAL. CONT. - AGU</td>\n",
       "      <td>Receitas Correntes</td>\n",
       "      <td>Outras Receitas Correntes</td>\n",
       "      <td>Bens, Direitos e Valores Incorporados ao Patr</td>\n",
       "      <td>REC.DIV.ATIVA POR INFRAÇÃO ADMINISTRATIVA</td>\n",
       "      <td>0,00</td>\n",
       "      <td>0,00</td>\n",
       "      <td>1855,58</td>\n",
       "      <td>0,00</td>\n",
       "      <td>31/12/2013</td>\n",
       "      <td>2013.0</td>\n",
       "    </tr>\n",
       "    <tr>\n",
       "      <th>4</th>\n",
       "      <td>63000.0</td>\n",
       "      <td>Advocacia-Geral da União</td>\n",
       "      <td>63000.0</td>\n",
       "      <td>Advocacia-Geral da União - Unidades com víncul...</td>\n",
       "      <td>110060.0</td>\n",
       "      <td>COORD. GERAL DE ORC. FIN. E ANAL. CONT. - AGU</td>\n",
       "      <td>Receitas Correntes</td>\n",
       "      <td>Outras Receitas Correntes</td>\n",
       "      <td>Indenizações, restituições e ressarcimentos</td>\n",
       "      <td>OUTRAS RESTITUICOES</td>\n",
       "      <td>0,00</td>\n",
       "      <td>0,00</td>\n",
       "      <td>52140,68</td>\n",
       "      <td>0,00</td>\n",
       "      <td>31/12/2013</td>\n",
       "      <td>2013.0</td>\n",
       "    </tr>\n",
       "  </tbody>\n",
       "</table>\n",
       "</div>"
      ],
      "text/plain": [
       "   superior_body_code        name_superior_body  organ_code  \\\n",
       "0             63000.0                       NaN     63000.0   \n",
       "1             63000.0  Advocacia-Geral da União     63000.0   \n",
       "2             63000.0  Advocacia-Geral da União     63000.0   \n",
       "3             63000.0                       NaN     63000.0   \n",
       "4             63000.0  Advocacia-Geral da União     63000.0   \n",
       "\n",
       "                                          organ_name  management_unit_code  \\\n",
       "0  Advocacia-Geral da União - Unidades com víncul...              110060.0   \n",
       "1  Advocacia-Geral da União - Unidades com víncul...              110060.0   \n",
       "2  Advocacia-Geral da União - Unidades com víncul...              110060.0   \n",
       "3  Advocacia-Geral da União - Unidades com víncul...              110060.0   \n",
       "4  Advocacia-Geral da União - Unidades com víncul...              110060.0   \n",
       "\n",
       "                            name_management_unit    economy_category  \\\n",
       "0  COORD. GERAL DE ORC. FIN. E ANAL. CONT. - AGU  Receitas Correntes   \n",
       "1  COORD. GERAL DE ORC. FIN. E ANAL. CONT. - AGU  Receitas Correntes   \n",
       "2  COORD. GERAL DE ORC. FIN. E ANAL. CONT. - AGU  Receitas Correntes   \n",
       "3  COORD. GERAL DE ORC. FIN. E ANAL. CONT. - AGU  Receitas Correntes   \n",
       "4  COORD. GERAL DE ORC. FIN. E ANAL. CONT. - AGU  Receitas Correntes   \n",
       "\n",
       "              source_revenue                                 recipe_species  \\\n",
       "0  Outras Receitas Correntes  Bens, Direitos e Valores Incorporados ao Patr   \n",
       "1  Outras Receitas Correntes    Indenizações, restituições e ressarcimentos   \n",
       "2  Outras Receitas Correntes  Multas administrativas, contratuais e judicia   \n",
       "3  Outras Receitas Correntes  Bens, Direitos e Valores Incorporados ao Patr   \n",
       "4  Outras Receitas Correntes    Indenizações, restituições e ressarcimentos   \n",
       "\n",
       "                                       detailing updated_estimated_value  \\\n",
       "0  REC.DIVIDA ATIVA NAO TRIBUTARIA DE OUTRAS REC                    0,00   \n",
       "1   RECUPERACAO DE DESPESAS DE EXERC. ANTERIORES                    0,00   \n",
       "2                  OUTRAS MULTAS E JUROS DE MORA                    0,00   \n",
       "3      REC.DIV.ATIVA POR INFRAÇÃO ADMINISTRATIVA                    0,00   \n",
       "4                            OUTRAS RESTITUICOES                    0,00   \n",
       "\n",
       "  value_launched realized_value percentage_realized release_date  \\\n",
       "0           0,00        1297,13                0,00   31/12/2013   \n",
       "1           0,00    26666621,42                0,00   31/12/2013   \n",
       "2           0,00      301251,13                0,00   31/12/2013   \n",
       "3           0,00        1855,58                0,00   31/12/2013   \n",
       "4           0,00       52140,68                0,00   31/12/2013   \n",
       "\n",
       "   financial_year  \n",
       "0          2013.0  \n",
       "1          2013.0  \n",
       "2          2013.0  \n",
       "3          2013.0  \n",
       "4          2013.0  "
      ]
     },
     "execution_count": 15,
     "metadata": {},
     "output_type": "execute_result"
    }
   ],
   "source": [
    "df_merged.head()"
   ]
  },
  {
   "cell_type": "code",
   "execution_count": 16,
   "metadata": {},
   "outputs": [],
   "source": [
    "def dict_codes_gen(code, name):\n",
    "    dict_codes = dict()\n",
    "    for i in range(len(code)):\n",
    "        if pd.isna(code[i]) or pd.isna(name[i]) or code[i] in dict_codes.keys():\n",
    "            continue\n",
    "        else:\n",
    "            dict_codes[code[i]] = name[i]\n",
    "    return dict_codes"
   ]
  },
  {
   "cell_type": "markdown",
   "metadata": {},
   "source": [
    "Comprobamos si hay columnas nulas."
   ]
  },
  {
   "cell_type": "code",
   "execution_count": 17,
   "metadata": {},
   "outputs": [
    {
     "name": "stdout",
     "output_type": "stream",
     "text": [
      "0 columnas nulas.\n"
     ]
    }
   ],
   "source": [
    "print(f\"{df_merged.isna().all(axis = 0).sum()} columnas nulas.\")"
   ]
  },
  {
   "cell_type": "code",
   "execution_count": 18,
   "metadata": {},
   "outputs": [
    {
     "data": {
      "text/plain": [
       "superior_body_code         0.029581\n",
       "name_superior_body         0.350001\n",
       "organ_code                 0.024473\n",
       "organ_name                 0.033993\n",
       "management_unit_code       0.032720\n",
       "name_management_unit       0.018982\n",
       "economy_category           0.018492\n",
       "source_revenue             0.037434\n",
       "recipe_species             0.031109\n",
       "detailing                  0.028585\n",
       "updated_estimated_value    0.050000\n",
       "value_launched             0.025742\n",
       "realized_value             0.038454\n",
       "percentage_realized        0.023516\n",
       "release_date               0.023220\n",
       "financial_year             0.000000\n",
       "dtype: float64"
      ]
     },
     "execution_count": 18,
     "metadata": {},
     "output_type": "execute_result"
    }
   ],
   "source": [
    "df_merged.isna().sum()/df_merged.shape[0]"
   ]
  },
  {
   "cell_type": "markdown",
   "metadata": {},
   "source": [
    "Creamos diccionarios donde se relacionan el código de una entidad con su nombre."
   ]
  },
  {
   "cell_type": "code",
   "execution_count": 19,
   "metadata": {},
   "outputs": [],
   "source": [
    "superior_body_dict = dict_codes_gen(df_merged[\"superior_body_code\"].values, df_merged[\"name_superior_body\"].values)\n",
    "organ_dict = dict_codes_gen(df_merged[\"organ_code\"].values, df_merged[\"organ_name\"].values)\n",
    "management_dict = dict_codes_gen(df_merged[\"management_unit_code\"].values, df_merged[\"name_management_unit\"].values)"
   ]
  },
  {
   "cell_type": "code",
   "execution_count": 20,
   "metadata": {},
   "outputs": [
    {
     "data": {
      "text/plain": [
       "Index(['superior_body_code', 'name_superior_body', 'organ_code', 'organ_name',\n",
       "       'management_unit_code', 'name_management_unit', 'economy_category',\n",
       "       'source_revenue', 'recipe_species', 'detailing',\n",
       "       'updated_estimated_value', 'value_launched', 'realized_value',\n",
       "       'percentage_realized', 'release_date', 'financial_year'],\n",
       "      dtype='object')"
      ]
     },
     "execution_count": 20,
     "metadata": {},
     "output_type": "execute_result"
    }
   ],
   "source": [
    "df_merged.columns"
   ]
  },
  {
   "cell_type": "code",
   "execution_count": 21,
   "metadata": {},
   "outputs": [
    {
     "data": {
      "text/plain": [
       "10545"
      ]
     },
     "execution_count": 21,
     "metadata": {},
     "output_type": "execute_result"
    }
   ],
   "source": [
    "df_merged[[\"superior_body_code\", \"name_superior_body\"]].isna().all(axis = 1).sum()"
   ]
  },
  {
   "cell_type": "code",
   "execution_count": 22,
   "metadata": {},
   "outputs": [
    {
     "data": {
      "text/plain": [
       "superior_body_code          30359\n",
       "name_superior_body         359206\n",
       "organ_code                  25117\n",
       "organ_name                  34887\n",
       "management_unit_code        33581\n",
       "name_management_unit        19481\n",
       "economy_category            18978\n",
       "source_revenue              38418\n",
       "recipe_species              31927\n",
       "detailing                   29337\n",
       "updated_estimated_value     51315\n",
       "value_launched              26419\n",
       "realized_value              39465\n",
       "percentage_realized         24134\n",
       "release_date                23831\n",
       "financial_year                  0\n",
       "dtype: int64"
      ]
     },
     "execution_count": 22,
     "metadata": {},
     "output_type": "execute_result"
    }
   ],
   "source": [
    "df_merged.isna().sum()"
   ]
  },
  {
   "cell_type": "markdown",
   "metadata": {},
   "source": [
    "Ahora lo que hacemos es llenar los vacíos de los nombres con el que les corresponda según el diccionario generado para cada columna. Hacemos un map, el cual nos llenará los valores si los encuentra, y si no, asignará un vacío a la celda. Esto supone un problema, pero lo podemos solucionar fácilmente si aplicamos posteriormente un fillna, que rellenará los vacíos generados con el map con sus valores originales, y los que fueron rellenados mantendrán su estado de rellenado."
   ]
  },
  {
   "cell_type": "code",
   "execution_count": 23,
   "metadata": {},
   "outputs": [],
   "source": [
    "df_merged['organ_name'] = df_merged['organ_code'].map(organ_dict).fillna(df_merged['organ_name'])\n",
    "df_merged['name_superior_body'] = df_merged['superior_body_code'].map(superior_body_dict).fillna(df_merged['name_superior_body'])\n",
    "df_merged['name_management_unit'] = df_merged['management_unit_code'].map(management_dict).fillna(df_merged['name_management_unit'])"
   ]
  },
  {
   "cell_type": "markdown",
   "metadata": {},
   "source": [
    "Podemos comprobar que los vacíos en las columnas de los nombres han disminuido significativamente."
   ]
  },
  {
   "cell_type": "code",
   "execution_count": 24,
   "metadata": {},
   "outputs": [
    {
     "data": {
      "text/plain": [
       "superior_body_code         30359\n",
       "name_superior_body         10545\n",
       "organ_code                 25117\n",
       "organ_name                   905\n",
       "management_unit_code       33581\n",
       "name_management_unit         614\n",
       "economy_category           18978\n",
       "source_revenue             38418\n",
       "recipe_species             31927\n",
       "detailing                  29337\n",
       "updated_estimated_value    51315\n",
       "value_launched             26419\n",
       "realized_value             39465\n",
       "percentage_realized        24134\n",
       "release_date               23831\n",
       "financial_year                 0\n",
       "dtype: int64"
      ]
     },
     "execution_count": 24,
     "metadata": {},
     "output_type": "execute_result"
    }
   ],
   "source": [
    "df_merged.isna().sum()"
   ]
  },
  {
   "cell_type": "markdown",
   "metadata": {},
   "source": [
    "Ahora podemos fijarnos que podría pasar lo mismo para los códigos de las entidades: existen nombre pero hay valores nulos en su código. Lo bueno es que al haber generado los diccionarios donde se asocian ambas solo necesitamos invertir las keys y los valores de los diccionarios generados antes y volver a aplicar el mismo método para las columnas con los códigos, esta vez buscando los nombres de cada entidad de cada fila en el diccionario nuevo."
   ]
  },
  {
   "cell_type": "code",
   "execution_count": 25,
   "metadata": {},
   "outputs": [],
   "source": [
    "organ_name_to_code = {value: key for key, value in organ_dict.items()}\n",
    "superior_body_name_to_code = {value: key for key, value in superior_body_dict.items()}\n",
    "management_unit_name_to_code = {value: key for key, value in management_dict.items()}"
   ]
  },
  {
   "cell_type": "code",
   "execution_count": 26,
   "metadata": {},
   "outputs": [],
   "source": [
    "df_merged['organ_code'] = df_merged['organ_name'].map(organ_name_to_code).fillna(df_merged['organ_code'])\n",
    "df_merged['superior_body_code'] = df_merged['name_superior_body'].map(superior_body_name_to_code).fillna(df_merged['superior_body_code'])\n",
    "df_merged['management_unit_code'] = df_merged['name_management_unit'].map(management_unit_name_to_code).fillna(df_merged['management_unit_code'])"
   ]
  },
  {
   "cell_type": "markdown",
   "metadata": {},
   "source": [
    "Podemos comprobar de nuevo que los vacíos han sido reducidos sustancialmente."
   ]
  },
  {
   "cell_type": "code",
   "execution_count": 27,
   "metadata": {},
   "outputs": [
    {
     "data": {
      "text/plain": [
       "superior_body_code         10545\n",
       "name_superior_body         10545\n",
       "organ_code                   905\n",
       "organ_name                   905\n",
       "management_unit_code         614\n",
       "name_management_unit         614\n",
       "economy_category           18978\n",
       "source_revenue             38418\n",
       "recipe_species             31927\n",
       "detailing                  29337\n",
       "updated_estimated_value    51315\n",
       "value_launched             26419\n",
       "realized_value             39465\n",
       "percentage_realized        24134\n",
       "release_date               23831\n",
       "financial_year                 0\n",
       "dtype: int64"
      ]
     },
     "execution_count": 27,
     "metadata": {},
     "output_type": "execute_result"
    }
   ],
   "source": [
    "df_merged.isna().sum()"
   ]
  },
  {
   "cell_type": "markdown",
   "metadata": {},
   "source": [
    "Ahora podemos comprobar que los vacíos existentes son aquellos donde ambas columnas de nombre y código se encuentran vacías, por lo que nuestro método no ha encontrado ningún valor para ninguna de estas."
   ]
  },
  {
   "cell_type": "code",
   "execution_count": 28,
   "metadata": {},
   "outputs": [
    {
     "data": {
      "text/plain": [
       "10545"
      ]
     },
     "execution_count": 28,
     "metadata": {},
     "output_type": "execute_result"
    }
   ],
   "source": [
    "df_merged[[\"superior_body_code\", \"name_superior_body\"]].isna().all(axis = 1).sum()"
   ]
  },
  {
   "cell_type": "code",
   "execution_count": 29,
   "metadata": {},
   "outputs": [],
   "source": [
    "valores = df_merged.columns[df_merged.columns.str.contains(\"value\")].values"
   ]
  },
  {
   "cell_type": "code",
   "execution_count": 30,
   "metadata": {},
   "outputs": [],
   "source": [
    "def decimal_point_conv(data, columns):\n",
    "    for col in columns:\n",
    "        data[col] = data[col].str.replace(\",\",\".\").apply(float).abs().round(2)"
   ]
  },
  {
   "cell_type": "code",
   "execution_count": 31,
   "metadata": {},
   "outputs": [],
   "source": [
    "decimal_point_conv(df_merged, valores)\n"
   ]
  },
  {
   "cell_type": "code",
   "execution_count": 32,
   "metadata": {},
   "outputs": [],
   "source": [
    "decimal_point_conv(df_merged, [\"percentage_realized\"])"
   ]
  },
  {
   "cell_type": "code",
   "execution_count": 33,
   "metadata": {},
   "outputs": [
    {
     "data": {
      "text/plain": [
       "Index([ 5190,  6193,  4289, 10427,  5762,  3407,  1080,  1303,  3971,  7111,\n",
       "        5604,  3561,  3545,  6997,  7558,   608,  6622,  1520,  9370,  2662],\n",
       "      dtype='int64')"
      ]
     },
     "execution_count": 33,
     "metadata": {},
     "output_type": "execute_result"
    }
   ],
   "source": [
    "df_merged.percentage_realized.sort_values(ascending=False).head(20).index"
   ]
  },
  {
   "cell_type": "code",
   "execution_count": 34,
   "metadata": {},
   "outputs": [
    {
     "data": {
      "text/html": [
       "<div>\n",
       "<style scoped>\n",
       "    .dataframe tbody tr th:only-of-type {\n",
       "        vertical-align: middle;\n",
       "    }\n",
       "\n",
       "    .dataframe tbody tr th {\n",
       "        vertical-align: top;\n",
       "    }\n",
       "\n",
       "    .dataframe thead th {\n",
       "        text-align: right;\n",
       "    }\n",
       "</style>\n",
       "<table border=\"1\" class=\"dataframe\">\n",
       "  <thead>\n",
       "    <tr style=\"text-align: right;\">\n",
       "      <th></th>\n",
       "      <th>superior_body_code</th>\n",
       "      <th>name_superior_body</th>\n",
       "      <th>organ_code</th>\n",
       "      <th>organ_name</th>\n",
       "      <th>management_unit_code</th>\n",
       "      <th>name_management_unit</th>\n",
       "      <th>economy_category</th>\n",
       "      <th>source_revenue</th>\n",
       "      <th>recipe_species</th>\n",
       "      <th>detailing</th>\n",
       "      <th>updated_estimated_value</th>\n",
       "      <th>value_launched</th>\n",
       "      <th>realized_value</th>\n",
       "      <th>percentage_realized</th>\n",
       "      <th>release_date</th>\n",
       "      <th>financial_year</th>\n",
       "    </tr>\n",
       "  </thead>\n",
       "  <tbody>\n",
       "    <tr>\n",
       "      <th>5190</th>\n",
       "      <td>25000.0</td>\n",
       "      <td>Ministério da Economia</td>\n",
       "      <td>25000.0</td>\n",
       "      <td>Ministério da Economia - Unidades com vínculo ...</td>\n",
       "      <td>170013.0</td>\n",
       "      <td>SETORIAL ORCAMENTARIA E FINANCEIRA / ME</td>\n",
       "      <td>Receitas Correntes</td>\n",
       "      <td>Contribuições</td>\n",
       "      <td>Contribuições sociais</td>\n",
       "      <td>OUTRAS CONTRIBUICOES SOCIAIS</td>\n",
       "      <td>2.0</td>\n",
       "      <td>0.0</td>\n",
       "      <td>1447275.45</td>\n",
       "      <td>72363772.0</td>\n",
       "      <td>NaN</td>\n",
       "      <td>2014.0</td>\n",
       "    </tr>\n",
       "  </tbody>\n",
       "</table>\n",
       "</div>"
      ],
      "text/plain": [
       "      superior_body_code      name_superior_body  organ_code  \\\n",
       "5190             25000.0  Ministério da Economia     25000.0   \n",
       "\n",
       "                                             organ_name  management_unit_code  \\\n",
       "5190  Ministério da Economia - Unidades com vínculo ...              170013.0   \n",
       "\n",
       "                         name_management_unit    economy_category  \\\n",
       "5190  SETORIAL ORCAMENTARIA E FINANCEIRA / ME  Receitas Correntes   \n",
       "\n",
       "     source_revenue         recipe_species                     detailing  \\\n",
       "5190  Contribuições  Contribuições sociais  OUTRAS CONTRIBUICOES SOCIAIS   \n",
       "\n",
       "      updated_estimated_value  value_launched  realized_value  \\\n",
       "5190                      2.0             0.0      1447275.45   \n",
       "\n",
       "      percentage_realized release_date  financial_year  \n",
       "5190           72363772.0          NaN          2014.0  "
      ]
     },
     "execution_count": 34,
     "metadata": {},
     "output_type": "execute_result"
    }
   ],
   "source": [
    "(df_merged.iloc[df_merged.percentage_realized.sort_values(ascending=False).head(10).index].head(1))"
   ]
  },
  {
   "cell_type": "code",
   "execution_count": 35,
   "metadata": {},
   "outputs": [
    {
     "data": {
      "text/plain": [
       "superior_body_code                                                   25000.0\n",
       "name_superior_body                                    Ministério da Economia\n",
       "organ_code                                                           25000.0\n",
       "organ_name                 Ministério da Economia - Unidades com vínculo ...\n",
       "management_unit_code                                                170013.0\n",
       "name_management_unit                 SETORIAL ORCAMENTARIA E FINANCEIRA / ME\n",
       "economy_category                                          Receitas Correntes\n",
       "source_revenue                                                 Contribuições\n",
       "recipe_species                                         Contribuições sociais\n",
       "detailing                                       OUTRAS CONTRIBUICOES SOCIAIS\n",
       "updated_estimated_value                                                  2.0\n",
       "value_launched                                                           0.0\n",
       "realized_value                                                    1447275.45\n",
       "percentage_realized                                               72363772.0\n",
       "release_date                                                             NaN\n",
       "financial_year                                                        2014.0\n",
       "Name: 5190, dtype: object"
      ]
     },
     "execution_count": 35,
     "metadata": {},
     "output_type": "execute_result"
    }
   ],
   "source": [
    "df_merged.iloc[5190\t]"
   ]
  },
  {
   "cell_type": "code",
   "execution_count": 36,
   "metadata": {},
   "outputs": [
    {
     "data": {
      "text/plain": [
       "superior_body_code                                                   25000.0\n",
       "name_superior_body                                    Ministério da Economia\n",
       "organ_code                                                           25000.0\n",
       "organ_name                 Ministério da Economia - Unidades com vínculo ...\n",
       "management_unit_code                                                170010.0\n",
       "name_management_unit             SECRETARIA DA RECEITA FEDERAL DO BRASIL-RFB\n",
       "economy_category                                          Receitas Correntes\n",
       "source_revenue                   Impostos, Taxas e Contribuições de Melhoria\n",
       "recipe_species                                                      Impostos\n",
       "detailing                          PESSOAS JURIDICAS - LIQUIDA DE INCENTIVOS\n",
       "updated_estimated_value                                                  0.0\n",
       "value_launched                                           357160677863.969971\n",
       "realized_value                                                           0.0\n",
       "percentage_realized                                                      0.0\n",
       "release_date                                                      31/12/2014\n",
       "financial_year                                                        2014.0\n",
       "Name: 5744, dtype: object"
      ]
     },
     "execution_count": 36,
     "metadata": {},
     "output_type": "execute_result"
    }
   ],
   "source": [
    "df_merged.iloc[df_merged[\"value_launched\"].idxmax(axis = 0)]"
   ]
  },
  {
   "cell_type": "code",
   "execution_count": 37,
   "metadata": {},
   "outputs": [],
   "source": [
    "# def detectar_anomalias(df):\n",
    "#     df['realized_value'].fillna(0, inplace=True)  # Reemplaza NaN por 0 en valor realizado para evitar errores\n",
    "#     df['calculated_percentage'] = (df['realized_value'] / df['updated_estimated_value']) * 100\n",
    "\n",
    "#     df['anomaly_high_percentage'] = df['calculated_percentage'] > 1000\n",
    "#     df['anomaly_value_launched_vs_realized'] = (df['value_launched'] == 0) & (df['realized_value'] > 0)\n",
    "#     df['anomaly_low_estimated_value'] = (df['updated_estimated_value'] < df['realized_value'] * 0.01)\n",
    "\n",
    "#     anomalies = df[(df['anomaly_high_percentage']) | \n",
    "#                    (df['anomaly_value_launched_vs_realized']) | \n",
    "#                    (df['anomaly_low_estimated_value'])]\n",
    "\n",
    "#     return anomalies.drop(\"calculated_percentage\", axis = 1)\n"
   ]
  },
  {
   "cell_type": "markdown",
   "metadata": {},
   "source": [
    "Creamos una función que nos diga si hay fechas inconsistentes entre años. Esta consistirá en comparar los nulos de la columna de fechas con valores donde la columna año no coincida con el año en la de fechas. Si todas dan 0 significa que todas tienen las fechas bien (o bien vacías)."
   ]
  },
  {
   "cell_type": "code",
   "execution_count": 38,
   "metadata": {},
   "outputs": [],
   "source": [
    "def check_date_consistency(dataframe_list):\n",
    "    diffs = []\n",
    "    for df in dataframe_list:\n",
    "        years_from_date = pd.to_datetime(df[\"DATA LANÇAMENTO\"], format=\"%d/%m/%Y\").dt.year\n",
    "        years = df[\"ANO EXERCÍCIO\"]\n",
    "        boolean_series = years != years_from_date\n",
    "        sum_bool = boolean_series.sum()\n",
    "        nas = df[\"DATA LANÇAMENTO\"].isna().sum()\n",
    "        diff = sum_bool-nas\n",
    "        diffs.append(diff)\n",
    "    return diffs\n"
   ]
  },
  {
   "cell_type": "markdown",
   "metadata": {},
   "source": [
    "Vemos que de hecho todas las fechas están en el año que les corresponde."
   ]
  },
  {
   "cell_type": "code",
   "execution_count": 39,
   "metadata": {},
   "outputs": [
    {
     "data": {
      "text/plain": [
       "[0, 0, 0, 0, 0, 0, 0, 0, 0]"
      ]
     },
     "execution_count": 39,
     "metadata": {},
     "output_type": "execute_result"
    }
   ],
   "source": [
    "check_date_consistency(dfs)"
   ]
  },
  {
   "cell_type": "code",
   "execution_count": 40,
   "metadata": {},
   "outputs": [],
   "source": [
    "df_merged[\"release_date\"] = pd.to_datetime(df_merged[\"release_date\"], format = \"%d/%m/%Y\")"
   ]
  },
  {
   "cell_type": "markdown",
   "metadata": {},
   "source": [
    "Comprobemos ahora que todas las columnas mantienen un formato correcto."
   ]
  },
  {
   "cell_type": "code",
   "execution_count": 41,
   "metadata": {},
   "outputs": [
    {
     "data": {
      "text/html": [
       "<div>\n",
       "<style scoped>\n",
       "    .dataframe tbody tr th:only-of-type {\n",
       "        vertical-align: middle;\n",
       "    }\n",
       "\n",
       "    .dataframe tbody tr th {\n",
       "        vertical-align: top;\n",
       "    }\n",
       "\n",
       "    .dataframe thead th {\n",
       "        text-align: right;\n",
       "    }\n",
       "</style>\n",
       "<table border=\"1\" class=\"dataframe\">\n",
       "  <thead>\n",
       "    <tr style=\"text-align: right;\">\n",
       "      <th></th>\n",
       "      <th>count</th>\n",
       "      <th>mean</th>\n",
       "      <th>std</th>\n",
       "      <th>min</th>\n",
       "      <th>25%</th>\n",
       "      <th>50%</th>\n",
       "      <th>75%</th>\n",
       "      <th>max</th>\n",
       "    </tr>\n",
       "    <tr>\n",
       "      <th>financial_year</th>\n",
       "      <th></th>\n",
       "      <th></th>\n",
       "      <th></th>\n",
       "      <th></th>\n",
       "      <th></th>\n",
       "      <th></th>\n",
       "      <th></th>\n",
       "      <th></th>\n",
       "    </tr>\n",
       "  </thead>\n",
       "  <tbody>\n",
       "    <tr>\n",
       "      <th>2013.0</th>\n",
       "      <td>4309.0</td>\n",
       "      <td>3.862179e+08</td>\n",
       "      <td>7.247314e+09</td>\n",
       "      <td>0.0</td>\n",
       "      <td>601.0000</td>\n",
       "      <td>49326.000</td>\n",
       "      <td>985939.6500</td>\n",
       "      <td>4.137862e+11</td>\n",
       "    </tr>\n",
       "    <tr>\n",
       "      <th>2014.0</th>\n",
       "      <td>4328.0</td>\n",
       "      <td>5.114653e+08</td>\n",
       "      <td>1.031421e+10</td>\n",
       "      <td>0.0</td>\n",
       "      <td>429.1125</td>\n",
       "      <td>45707.205</td>\n",
       "      <td>996881.7350</td>\n",
       "      <td>5.484912e+11</td>\n",
       "    </tr>\n",
       "    <tr>\n",
       "      <th>2015.0</th>\n",
       "      <td>4351.0</td>\n",
       "      <td>6.058369e+08</td>\n",
       "      <td>1.329782e+10</td>\n",
       "      <td>0.0</td>\n",
       "      <td>522.6550</td>\n",
       "      <td>47304.270</td>\n",
       "      <td>920769.6100</td>\n",
       "      <td>7.711177e+11</td>\n",
       "    </tr>\n",
       "    <tr>\n",
       "      <th>2016.0</th>\n",
       "      <td>188766.0</td>\n",
       "      <td>1.816033e+07</td>\n",
       "      <td>8.926813e+08</td>\n",
       "      <td>0.0</td>\n",
       "      <td>228.0000</td>\n",
       "      <td>2269.645</td>\n",
       "      <td>29738.8275</td>\n",
       "      <td>1.998532e+11</td>\n",
       "    </tr>\n",
       "    <tr>\n",
       "      <th>2017.0</th>\n",
       "      <td>182807.0</td>\n",
       "      <td>1.481200e+07</td>\n",
       "      <td>4.349996e+08</td>\n",
       "      <td>0.0</td>\n",
       "      <td>249.1000</td>\n",
       "      <td>2450.000</td>\n",
       "      <td>31564.5550</td>\n",
       "      <td>1.007173e+11</td>\n",
       "    </tr>\n",
       "    <tr>\n",
       "      <th>2018.0</th>\n",
       "      <td>165640.0</td>\n",
       "      <td>1.796284e+07</td>\n",
       "      <td>6.327564e+08</td>\n",
       "      <td>0.0</td>\n",
       "      <td>336.3400</td>\n",
       "      <td>3267.265</td>\n",
       "      <td>39941.1675</td>\n",
       "      <td>1.692564e+11</td>\n",
       "    </tr>\n",
       "    <tr>\n",
       "      <th>2019.0</th>\n",
       "      <td>169191.0</td>\n",
       "      <td>1.906364e+07</td>\n",
       "      <td>4.795747e+08</td>\n",
       "      <td>0.0</td>\n",
       "      <td>360.0000</td>\n",
       "      <td>3516.930</td>\n",
       "      <td>42182.2800</td>\n",
       "      <td>6.043923e+10</td>\n",
       "    </tr>\n",
       "    <tr>\n",
       "      <th>2020.0</th>\n",
       "      <td>138063.0</td>\n",
       "      <td>2.671846e+07</td>\n",
       "      <td>1.113659e+09</td>\n",
       "      <td>0.0</td>\n",
       "      <td>390.3150</td>\n",
       "      <td>4895.030</td>\n",
       "      <td>63349.7100</td>\n",
       "      <td>3.500223e+11</td>\n",
       "    </tr>\n",
       "    <tr>\n",
       "      <th>2021.0</th>\n",
       "      <td>129379.0</td>\n",
       "      <td>3.015142e+07</td>\n",
       "      <td>7.030509e+08</td>\n",
       "      <td>0.0</td>\n",
       "      <td>390.0000</td>\n",
       "      <td>4885.250</td>\n",
       "      <td>65569.7750</td>\n",
       "      <td>5.534029e+10</td>\n",
       "    </tr>\n",
       "  </tbody>\n",
       "</table>\n",
       "</div>"
      ],
      "text/plain": [
       "                   count          mean           std  min       25%  \\\n",
       "financial_year                                                        \n",
       "2013.0            4309.0  3.862179e+08  7.247314e+09  0.0  601.0000   \n",
       "2014.0            4328.0  5.114653e+08  1.031421e+10  0.0  429.1125   \n",
       "2015.0            4351.0  6.058369e+08  1.329782e+10  0.0  522.6550   \n",
       "2016.0          188766.0  1.816033e+07  8.926813e+08  0.0  228.0000   \n",
       "2017.0          182807.0  1.481200e+07  4.349996e+08  0.0  249.1000   \n",
       "2018.0          165640.0  1.796284e+07  6.327564e+08  0.0  336.3400   \n",
       "2019.0          169191.0  1.906364e+07  4.795747e+08  0.0  360.0000   \n",
       "2020.0          138063.0  2.671846e+07  1.113659e+09  0.0  390.3150   \n",
       "2021.0          129379.0  3.015142e+07  7.030509e+08  0.0  390.0000   \n",
       "\n",
       "                      50%          75%           max  \n",
       "financial_year                                        \n",
       "2013.0          49326.000  985939.6500  4.137862e+11  \n",
       "2014.0          45707.205  996881.7350  5.484912e+11  \n",
       "2015.0          47304.270  920769.6100  7.711177e+11  \n",
       "2016.0           2269.645   29738.8275  1.998532e+11  \n",
       "2017.0           2450.000   31564.5550  1.007173e+11  \n",
       "2018.0           3267.265   39941.1675  1.692564e+11  \n",
       "2019.0           3516.930   42182.2800  6.043923e+10  \n",
       "2020.0           4895.030   63349.7100  3.500223e+11  \n",
       "2021.0           4885.250   65569.7750  5.534029e+10  "
      ]
     },
     "execution_count": 41,
     "metadata": {},
     "output_type": "execute_result"
    }
   ],
   "source": [
    "df_merged.groupby(\"financial_year\")[\"realized_value\"].describe()"
   ]
  },
  {
   "cell_type": "code",
   "execution_count": 42,
   "metadata": {},
   "outputs": [
    {
     "data": {
      "text/plain": [
       "0.058156541124954816"
      ]
     },
     "execution_count": 42,
     "metadata": {},
     "output_type": "execute_result"
    }
   ],
   "source": [
    "(df_merged[df_merged[\"realized_value\"] == 0].shape[0] + df_merged[\"realized_value\"].isna().sum())/df_merged.shape[0]"
   ]
  },
  {
   "cell_type": "code",
   "execution_count": 43,
   "metadata": {},
   "outputs": [],
   "source": [
    "Q1 = df_merged['realized_value'].quantile(0.25)\n",
    "Q3 = df_merged['realized_value'].quantile(0.75)\n",
    "IQR = Q3 - Q1\n",
    "\n",
    "lower_bound = Q1 - 1.5 * IQR\n",
    "upper_bound = Q3 + 1.5 * IQR\n",
    "\n",
    "df_merged_no_out =  df_merged[(df_merged['realized_value'] >= lower_bound) & (df_merged['realized_value'] <= upper_bound)]\n"
   ]
  },
  {
   "cell_type": "code",
   "execution_count": 44,
   "metadata": {},
   "outputs": [
    {
     "data": {
      "text/html": [
       "<div>\n",
       "<style scoped>\n",
       "    .dataframe tbody tr th:only-of-type {\n",
       "        vertical-align: middle;\n",
       "    }\n",
       "\n",
       "    .dataframe tbody tr th {\n",
       "        vertical-align: top;\n",
       "    }\n",
       "\n",
       "    .dataframe thead th {\n",
       "        text-align: right;\n",
       "    }\n",
       "</style>\n",
       "<table border=\"1\" class=\"dataframe\">\n",
       "  <thead>\n",
       "    <tr style=\"text-align: right;\">\n",
       "      <th></th>\n",
       "      <th>count</th>\n",
       "      <th>mean</th>\n",
       "      <th>std</th>\n",
       "      <th>min</th>\n",
       "      <th>25%</th>\n",
       "      <th>50%</th>\n",
       "      <th>75%</th>\n",
       "      <th>max</th>\n",
       "    </tr>\n",
       "    <tr>\n",
       "      <th>financial_year</th>\n",
       "      <th></th>\n",
       "      <th></th>\n",
       "      <th></th>\n",
       "      <th></th>\n",
       "      <th></th>\n",
       "      <th></th>\n",
       "      <th></th>\n",
       "      <th></th>\n",
       "    </tr>\n",
       "  </thead>\n",
       "  <tbody>\n",
       "    <tr>\n",
       "      <th>2013.0</th>\n",
       "      <td>2480.0</td>\n",
       "      <td>16027.071008</td>\n",
       "      <td>26629.794871</td>\n",
       "      <td>0.0</td>\n",
       "      <td>0.0000</td>\n",
       "      <td>1656.805</td>\n",
       "      <td>20582.9550</td>\n",
       "      <td>109516.00</td>\n",
       "    </tr>\n",
       "    <tr>\n",
       "      <th>2014.0</th>\n",
       "      <td>2507.0</td>\n",
       "      <td>15410.838337</td>\n",
       "      <td>25922.069183</td>\n",
       "      <td>0.0</td>\n",
       "      <td>0.0000</td>\n",
       "      <td>1326.150</td>\n",
       "      <td>18812.8900</td>\n",
       "      <td>109517.89</td>\n",
       "    </tr>\n",
       "    <tr>\n",
       "      <th>2015.0</th>\n",
       "      <td>2495.0</td>\n",
       "      <td>15611.206713</td>\n",
       "      <td>26394.644071</td>\n",
       "      <td>0.0</td>\n",
       "      <td>0.0000</td>\n",
       "      <td>1539.000</td>\n",
       "      <td>19796.4200</td>\n",
       "      <td>109202.75</td>\n",
       "    </tr>\n",
       "    <tr>\n",
       "      <th>2016.0</th>\n",
       "      <td>159055.0</td>\n",
       "      <td>9839.349625</td>\n",
       "      <td>20098.719491</td>\n",
       "      <td>0.0</td>\n",
       "      <td>150.4650</td>\n",
       "      <td>1131.540</td>\n",
       "      <td>7700.1600</td>\n",
       "      <td>109545.07</td>\n",
       "    </tr>\n",
       "    <tr>\n",
       "      <th>2017.0</th>\n",
       "      <td>153312.0</td>\n",
       "      <td>9886.586978</td>\n",
       "      <td>19964.423232</td>\n",
       "      <td>0.0</td>\n",
       "      <td>162.0000</td>\n",
       "      <td>1187.000</td>\n",
       "      <td>7894.8575</td>\n",
       "      <td>109541.99</td>\n",
       "    </tr>\n",
       "    <tr>\n",
       "      <th>2018.0</th>\n",
       "      <td>136139.0</td>\n",
       "      <td>10471.263300</td>\n",
       "      <td>20338.475836</td>\n",
       "      <td>0.0</td>\n",
       "      <td>208.7200</td>\n",
       "      <td>1500.000</td>\n",
       "      <td>9259.6300</td>\n",
       "      <td>109541.60</td>\n",
       "    </tr>\n",
       "    <tr>\n",
       "      <th>2019.0</th>\n",
       "      <td>138280.0</td>\n",
       "      <td>10545.669548</td>\n",
       "      <td>20232.499920</td>\n",
       "      <td>0.0</td>\n",
       "      <td>222.2800</td>\n",
       "      <td>1583.060</td>\n",
       "      <td>9661.5875</td>\n",
       "      <td>109542.03</td>\n",
       "    </tr>\n",
       "    <tr>\n",
       "      <th>2020.0</th>\n",
       "      <td>109480.0</td>\n",
       "      <td>11969.826449</td>\n",
       "      <td>21781.555319</td>\n",
       "      <td>0.0</td>\n",
       "      <td>206.0825</td>\n",
       "      <td>1800.000</td>\n",
       "      <td>11878.3250</td>\n",
       "      <td>109530.31</td>\n",
       "    </tr>\n",
       "    <tr>\n",
       "      <th>2021.0</th>\n",
       "      <td>102131.0</td>\n",
       "      <td>11878.246624</td>\n",
       "      <td>21643.561364</td>\n",
       "      <td>0.0</td>\n",
       "      <td>201.0500</td>\n",
       "      <td>1734.800</td>\n",
       "      <td>11852.9150</td>\n",
       "      <td>109527.07</td>\n",
       "    </tr>\n",
       "  </tbody>\n",
       "</table>\n",
       "</div>"
      ],
      "text/plain": [
       "                   count          mean           std  min       25%       50%  \\\n",
       "financial_year                                                                  \n",
       "2013.0            2480.0  16027.071008  26629.794871  0.0    0.0000  1656.805   \n",
       "2014.0            2507.0  15410.838337  25922.069183  0.0    0.0000  1326.150   \n",
       "2015.0            2495.0  15611.206713  26394.644071  0.0    0.0000  1539.000   \n",
       "2016.0          159055.0   9839.349625  20098.719491  0.0  150.4650  1131.540   \n",
       "2017.0          153312.0   9886.586978  19964.423232  0.0  162.0000  1187.000   \n",
       "2018.0          136139.0  10471.263300  20338.475836  0.0  208.7200  1500.000   \n",
       "2019.0          138280.0  10545.669548  20232.499920  0.0  222.2800  1583.060   \n",
       "2020.0          109480.0  11969.826449  21781.555319  0.0  206.0825  1800.000   \n",
       "2021.0          102131.0  11878.246624  21643.561364  0.0  201.0500  1734.800   \n",
       "\n",
       "                       75%        max  \n",
       "financial_year                         \n",
       "2013.0          20582.9550  109516.00  \n",
       "2014.0          18812.8900  109517.89  \n",
       "2015.0          19796.4200  109202.75  \n",
       "2016.0           7700.1600  109545.07  \n",
       "2017.0           7894.8575  109541.99  \n",
       "2018.0           9259.6300  109541.60  \n",
       "2019.0           9661.5875  109542.03  \n",
       "2020.0          11878.3250  109530.31  \n",
       "2021.0          11852.9150  109527.07  "
      ]
     },
     "execution_count": 44,
     "metadata": {},
     "output_type": "execute_result"
    }
   ],
   "source": [
    "df_merged_no_out.groupby(\"financial_year\")[\"realized_value\"].describe()"
   ]
  },
  {
   "cell_type": "code",
   "execution_count": 45,
   "metadata": {},
   "outputs": [
    {
     "data": {
      "image/png": "[encoded data removed]",
      "text/plain": [
       "<Figure size 1200x600 with 1 Axes>"
      ]
     },
     "metadata": {},
     "output_type": "display_data"
    }
   ],
   "source": [
    "plt.figure(figsize=(12, 6))\n",
    "sns.boxplot(data=df_merged_no_out, x='financial_year', y='realized_value')\n",
    "plt.title('Boxplot de valores realizados por Año (sin outliers)')\n",
    "plt.xlabel('Año Financiero')\n",
    "plt.ylabel('Valor Realizado')\n",
    "plt.xticks(rotation=45)\n",
    "plt.show()"
   ]
  },
  {
   "cell_type": "code",
   "execution_count": 46,
   "metadata": {},
   "outputs": [],
   "source": [
    "df_no_zeros = df_merged[df_merged['realized_value'] > 0].dropna(subset=\"realized_value\")\n",
    "\n",
    "Q1 = df_no_zeros['realized_value'].quantile(0.25)\n",
    "Q3 = df_no_zeros['realized_value'].quantile(0.75)\n",
    "IQR = Q3 - Q1\n",
    "\n",
    "lower_bound = Q1 - 1.5 * IQR\n",
    "upper_bound = Q3 + 1.5 * IQR\n",
    "\n",
    "df_merged_no_out_no_0 =  df_no_zeros[(df_no_zeros['realized_value'] >= lower_bound) & (df_no_zeros['realized_value'] <= upper_bound)]\n"
   ]
  },
  {
   "cell_type": "code",
   "execution_count": 47,
   "metadata": {},
   "outputs": [
    {
     "data": {
      "text/plain": [
       "Index(['superior_body_code', 'name_superior_body', 'organ_code', 'organ_name',\n",
       "       'management_unit_code', 'name_management_unit', 'economy_category',\n",
       "       'source_revenue', 'recipe_species', 'detailing',\n",
       "       'updated_estimated_value', 'value_launched', 'realized_value',\n",
       "       'percentage_realized', 'release_date', 'financial_year'],\n",
       "      dtype='object')"
      ]
     },
     "execution_count": 47,
     "metadata": {},
     "output_type": "execute_result"
    }
   ],
   "source": [
    "df_merged.columns"
   ]
  },
  {
   "cell_type": "code",
   "execution_count": 48,
   "metadata": {},
   "outputs": [
    {
     "data": {
      "text/plain": [
       "array(['Receitas Correntes', 'Receitas de Capital', nan,\n",
       "       'Receitas Correntes - intra-orçamentárias', 'Sem informação',\n",
       "       'Receitas de Capital - intra-orçamentárias'], dtype=object)"
      ]
     },
     "execution_count": 48,
     "metadata": {},
     "output_type": "execute_result"
    }
   ],
   "source": [
    "df_merged[\"economy_category\"].unique()"
   ]
  },
  {
   "cell_type": "code",
   "execution_count": 49,
   "metadata": {},
   "outputs": [],
   "source": [
    "df_merged[\"economy_category\"] = df_merged[\"economy_category\"].fillna(\"Sem informação\")"
   ]
  },
  {
   "cell_type": "code",
   "execution_count": 50,
   "metadata": {},
   "outputs": [
    {
     "data": {
      "image/png": "[encoded data removed]",
      "text/plain": [
       "<Figure size 640x480 with 1 Axes>"
      ]
     },
     "metadata": {},
     "output_type": "display_data"
    }
   ],
   "source": [
    "sns.countplot(y='economy_category', data=df_merged)\n",
    "plt.title('Distribución de Categoría Económica')\n",
    "plt.show()"
   ]
  },
  {
   "cell_type": "code",
   "execution_count": 69,
   "metadata": {},
   "outputs": [
    {
     "data": {
      "text/plain": [
       "Index(['Ministério da Economia - Unidades com vínculo direto',\n",
       "       'Fundo do Exército', 'Comando da Marinha - Fundo Naval',\n",
       "       'Fundo Nacional de Cultura',\n",
       "       'Instituto Brasileiro do Meio Ambiente e dos Recursos Naturais Renováveis',\n",
       "       'Empresa Brasileira de Pesquisa Agropecuária',\n",
       "       'Fundo do Regime Geral da Previdência Social', 'Fundo Aeronáutico',\n",
       "       'Fundo Nacional de Desenvolvimento Científico e Tecnológico',\n",
       "       'Instituto Nacional de Metrologia, Qualidade e Tecnologia'],\n",
       "      dtype='object', name='organ_name')"
      ]
     },
     "execution_count": 69,
     "metadata": {},
     "output_type": "execute_result"
    }
   ],
   "source": [
    "df_merged[\"organ_name\"].value_counts().head(10).keys()"
   ]
  },
  {
   "cell_type": "code",
   "execution_count": 75,
   "metadata": {},
   "outputs": [
    {
     "data": {
      "text/html": [
       "<div>\n",
       "<style scoped>\n",
       "    .dataframe tbody tr th:only-of-type {\n",
       "        vertical-align: middle;\n",
       "    }\n",
       "\n",
       "    .dataframe tbody tr th {\n",
       "        vertical-align: top;\n",
       "    }\n",
       "\n",
       "    .dataframe thead th {\n",
       "        text-align: right;\n",
       "    }\n",
       "</style>\n",
       "<table border=\"1\" class=\"dataframe\">\n",
       "  <thead>\n",
       "    <tr style=\"text-align: right;\">\n",
       "      <th></th>\n",
       "      <th>organ_name</th>\n",
       "      <th>realized_value</th>\n",
       "    </tr>\n",
       "  </thead>\n",
       "  <tbody>\n",
       "    <tr>\n",
       "      <th>200</th>\n",
       "      <td>Ministério da Economia - Unidades com vínculo ...</td>\n",
       "      <td>2.117649e+13</td>\n",
       "    </tr>\n",
       "    <tr>\n",
       "      <th>136</th>\n",
       "      <td>Fundo do Regime Geral da Previdência Social</td>\n",
       "      <td>3.484603e+12</td>\n",
       "    </tr>\n",
       "    <tr>\n",
       "      <th>121</th>\n",
       "      <td>Fundo de Amparo ao Trabalhador</td>\n",
       "      <td>3.534822e+11</td>\n",
       "    </tr>\n",
       "    <tr>\n",
       "      <th>192</th>\n",
       "      <td>Instituto Nacional do Seguro Social</td>\n",
       "      <td>3.176385e+11</td>\n",
       "    </tr>\n",
       "    <tr>\n",
       "      <th>111</th>\n",
       "      <td>Fundo Nacional de Desenvolvimento da Educação</td>\n",
       "      <td>2.064023e+11</td>\n",
       "    </tr>\n",
       "    <tr>\n",
       "      <th>11</th>\n",
       "      <td>Agência Nacional do Petróleo, Gás Natural e Bi...</td>\n",
       "      <td>1.137013e+11</td>\n",
       "    </tr>\n",
       "    <tr>\n",
       "      <th>53</th>\n",
       "      <td>Departamento do Fundo da Marinha Mercante</td>\n",
       "      <td>6.470355e+10</td>\n",
       "    </tr>\n",
       "    <tr>\n",
       "      <th>3</th>\n",
       "      <td>Agência Nacional de Energia Elétrica</td>\n",
       "      <td>6.044446e+10</td>\n",
       "    </tr>\n",
       "    <tr>\n",
       "      <th>107</th>\n",
       "      <td>Fundo Nacional de Aviação Civil</td>\n",
       "      <td>4.088149e+10</td>\n",
       "    </tr>\n",
       "    <tr>\n",
       "      <th>124</th>\n",
       "      <td>Fundo de Defesa da Economia Cafeeira</td>\n",
       "      <td>3.463859e+10</td>\n",
       "    </tr>\n",
       "  </tbody>\n",
       "</table>\n",
       "</div>"
      ],
      "text/plain": [
       "                                            organ_name  realized_value\n",
       "200  Ministério da Economia - Unidades com vínculo ...    2.117649e+13\n",
       "136        Fundo do Regime Geral da Previdência Social    3.484603e+12\n",
       "121                     Fundo de Amparo ao Trabalhador    3.534822e+11\n",
       "192                Instituto Nacional do Seguro Social    3.176385e+11\n",
       "111      Fundo Nacional de Desenvolvimento da Educação    2.064023e+11\n",
       "11   Agência Nacional do Petróleo, Gás Natural e Bi...    1.137013e+11\n",
       "53           Departamento do Fundo da Marinha Mercante    6.470355e+10\n",
       "3                 Agência Nacional de Energia Elétrica    6.044446e+10\n",
       "107                    Fundo Nacional de Aviação Civil    4.088149e+10\n",
       "124               Fundo de Defesa da Economia Cafeeira    3.463859e+10"
      ]
     },
     "execution_count": 75,
     "metadata": {},
     "output_type": "execute_result"
    }
   ],
   "source": [
    "df_merged.groupby(\"organ_name\")[\"realized_value\"].sum().reset_index().sort_values(by = \"realized_value\", ascending=False).head(10)"
   ]
  },
  {
   "cell_type": "code",
   "execution_count": 67,
   "metadata": {},
   "outputs": [
    {
     "data": {
      "text/html": [
       "<div>\n",
       "<style scoped>\n",
       "    .dataframe tbody tr th:only-of-type {\n",
       "        vertical-align: middle;\n",
       "    }\n",
       "\n",
       "    .dataframe tbody tr th {\n",
       "        vertical-align: top;\n",
       "    }\n",
       "\n",
       "    .dataframe thead th {\n",
       "        text-align: right;\n",
       "    }\n",
       "</style>\n",
       "<table border=\"1\" class=\"dataframe\">\n",
       "  <thead>\n",
       "    <tr style=\"text-align: right;\">\n",
       "      <th></th>\n",
       "      <th>organ_name</th>\n",
       "      <th>count</th>\n",
       "      <th>mean</th>\n",
       "      <th>std</th>\n",
       "      <th>min</th>\n",
       "      <th>25%</th>\n",
       "      <th>50%</th>\n",
       "      <th>75%</th>\n",
       "      <th>max</th>\n",
       "    </tr>\n",
       "  </thead>\n",
       "  <tbody>\n",
       "    <tr>\n",
       "      <th>136</th>\n",
       "      <td>Fundo do Regime Geral da Previdência Social</td>\n",
       "      <td>11937.0</td>\n",
       "      <td>2.919162e+08</td>\n",
       "      <td>2.347844e+09</td>\n",
       "      <td>0.00</td>\n",
       "      <td>4.181060e+03</td>\n",
       "      <td>5.444017e+05</td>\n",
       "      <td>1.094952e+07</td>\n",
       "      <td>1.100556e+11</td>\n",
       "    </tr>\n",
       "    <tr>\n",
       "      <th>120</th>\n",
       "      <td>Fundo Soberano do Brasil</td>\n",
       "      <td>95.0</td>\n",
       "      <td>2.060049e+08</td>\n",
       "      <td>6.349295e+08</td>\n",
       "      <td>2723.95</td>\n",
       "      <td>5.167025e+07</td>\n",
       "      <td>5.922965e+07</td>\n",
       "      <td>7.017320e+07</td>\n",
       "      <td>3.500000e+09</td>\n",
       "    </tr>\n",
       "    <tr>\n",
       "      <th>200</th>\n",
       "      <td>Ministério da Economia - Unidades com vínculo ...</td>\n",
       "      <td>114897.0</td>\n",
       "      <td>1.843085e+08</td>\n",
       "      <td>4.057788e+09</td>\n",
       "      <td>0.00</td>\n",
       "      <td>1.200800e+03</td>\n",
       "      <td>2.149683e+04</td>\n",
       "      <td>1.014622e+06</td>\n",
       "      <td>7.711177e+11</td>\n",
       "    </tr>\n",
       "    <tr>\n",
       "      <th>121</th>\n",
       "      <td>Fundo de Amparo ao Trabalhador</td>\n",
       "      <td>7226.0</td>\n",
       "      <td>4.891811e+07</td>\n",
       "      <td>4.014500e+08</td>\n",
       "      <td>0.00</td>\n",
       "      <td>2.174685e+03</td>\n",
       "      <td>4.795314e+04</td>\n",
       "      <td>4.216085e+05</td>\n",
       "      <td>8.741461e+09</td>\n",
       "    </tr>\n",
       "    <tr>\n",
       "      <th>131</th>\n",
       "      <td>Fundo de Garantia à Exportação</td>\n",
       "      <td>658.0</td>\n",
       "      <td>4.648524e+07</td>\n",
       "      <td>1.861965e+08</td>\n",
       "      <td>0.00</td>\n",
       "      <td>2.407901e+04</td>\n",
       "      <td>5.133866e+06</td>\n",
       "      <td>5.634315e+07</td>\n",
       "      <td>3.126248e+09</td>\n",
       "    </tr>\n",
       "    <tr>\n",
       "      <th>...</th>\n",
       "      <td>...</td>\n",
       "      <td>...</td>\n",
       "      <td>...</td>\n",
       "      <td>...</td>\n",
       "      <td>...</td>\n",
       "      <td>...</td>\n",
       "      <td>...</td>\n",
       "      <td>...</td>\n",
       "      <td>...</td>\n",
       "    </tr>\n",
       "    <tr>\n",
       "      <th>39</th>\n",
       "      <td>Companhia de Desenvolvimento de Barcarena</td>\n",
       "      <td>1.0</td>\n",
       "      <td>1.401900e+02</td>\n",
       "      <td>NaN</td>\n",
       "      <td>140.19</td>\n",
       "      <td>1.401900e+02</td>\n",
       "      <td>1.401900e+02</td>\n",
       "      <td>1.401900e+02</td>\n",
       "      <td>1.401900e+02</td>\n",
       "    </tr>\n",
       "    <tr>\n",
       "      <th>99</th>\n",
       "      <td>Fundo Constitucional de Financiamento do Centr...</td>\n",
       "      <td>303.0</td>\n",
       "      <td>0.000000e+00</td>\n",
       "      <td>0.000000e+00</td>\n",
       "      <td>0.00</td>\n",
       "      <td>0.000000e+00</td>\n",
       "      <td>0.000000e+00</td>\n",
       "      <td>0.000000e+00</td>\n",
       "      <td>0.000000e+00</td>\n",
       "    </tr>\n",
       "    <tr>\n",
       "      <th>100</th>\n",
       "      <td>Fundo Constitucional de Financiamento do Nordeste</td>\n",
       "      <td>303.0</td>\n",
       "      <td>0.000000e+00</td>\n",
       "      <td>0.000000e+00</td>\n",
       "      <td>0.00</td>\n",
       "      <td>0.000000e+00</td>\n",
       "      <td>0.000000e+00</td>\n",
       "      <td>0.000000e+00</td>\n",
       "      <td>0.000000e+00</td>\n",
       "    </tr>\n",
       "    <tr>\n",
       "      <th>218</th>\n",
       "      <td>Reserva de Contingência</td>\n",
       "      <td>23.0</td>\n",
       "      <td>0.000000e+00</td>\n",
       "      <td>0.000000e+00</td>\n",
       "      <td>0.00</td>\n",
       "      <td>0.000000e+00</td>\n",
       "      <td>0.000000e+00</td>\n",
       "      <td>0.000000e+00</td>\n",
       "      <td>0.000000e+00</td>\n",
       "    </tr>\n",
       "    <tr>\n",
       "      <th>101</th>\n",
       "      <td>Fundo Constitucional de Financiamento do Norte</td>\n",
       "      <td>296.0</td>\n",
       "      <td>0.000000e+00</td>\n",
       "      <td>0.000000e+00</td>\n",
       "      <td>0.00</td>\n",
       "      <td>0.000000e+00</td>\n",
       "      <td>0.000000e+00</td>\n",
       "      <td>0.000000e+00</td>\n",
       "      <td>0.000000e+00</td>\n",
       "    </tr>\n",
       "  </tbody>\n",
       "</table>\n",
       "<p>287 rows × 9 columns</p>\n",
       "</div>"
      ],
      "text/plain": [
       "                                            organ_name     count  \\\n",
       "136        Fundo do Regime Geral da Previdência Social   11937.0   \n",
       "120                           Fundo Soberano do Brasil      95.0   \n",
       "200  Ministério da Economia - Unidades com vínculo ...  114897.0   \n",
       "121                     Fundo de Amparo ao Trabalhador    7226.0   \n",
       "131                     Fundo de Garantia à Exportação     658.0   \n",
       "..                                                 ...       ...   \n",
       "39           Companhia de Desenvolvimento de Barcarena       1.0   \n",
       "99   Fundo Constitucional de Financiamento do Centr...     303.0   \n",
       "100  Fundo Constitucional de Financiamento do Nordeste     303.0   \n",
       "218                            Reserva de Contingência      23.0   \n",
       "101     Fundo Constitucional de Financiamento do Norte     296.0   \n",
       "\n",
       "             mean           std      min           25%           50%  \\\n",
       "136  2.919162e+08  2.347844e+09     0.00  4.181060e+03  5.444017e+05   \n",
       "120  2.060049e+08  6.349295e+08  2723.95  5.167025e+07  5.922965e+07   \n",
       "200  1.843085e+08  4.057788e+09     0.00  1.200800e+03  2.149683e+04   \n",
       "121  4.891811e+07  4.014500e+08     0.00  2.174685e+03  4.795314e+04   \n",
       "131  4.648524e+07  1.861965e+08     0.00  2.407901e+04  5.133866e+06   \n",
       "..            ...           ...      ...           ...           ...   \n",
       "39   1.401900e+02           NaN   140.19  1.401900e+02  1.401900e+02   \n",
       "99   0.000000e+00  0.000000e+00     0.00  0.000000e+00  0.000000e+00   \n",
       "100  0.000000e+00  0.000000e+00     0.00  0.000000e+00  0.000000e+00   \n",
       "218  0.000000e+00  0.000000e+00     0.00  0.000000e+00  0.000000e+00   \n",
       "101  0.000000e+00  0.000000e+00     0.00  0.000000e+00  0.000000e+00   \n",
       "\n",
       "              75%           max  \n",
       "136  1.094952e+07  1.100556e+11  \n",
       "120  7.017320e+07  3.500000e+09  \n",
       "200  1.014622e+06  7.711177e+11  \n",
       "121  4.216085e+05  8.741461e+09  \n",
       "131  5.634315e+07  3.126248e+09  \n",
       "..            ...           ...  \n",
       "39   1.401900e+02  1.401900e+02  \n",
       "99   0.000000e+00  0.000000e+00  \n",
       "100  0.000000e+00  0.000000e+00  \n",
       "218  0.000000e+00  0.000000e+00  \n",
       "101  0.000000e+00  0.000000e+00  \n",
       "\n",
       "[287 rows x 9 columns]"
      ]
     },
     "execution_count": 67,
     "metadata": {},
     "output_type": "execute_result"
    }
   ],
   "source": [
    "df_merged.groupby(\"organ_name\")[\"realized_value\"].describe().reset_index().sort_values(by = \"mean\", ascending=False)"
   ]
  },
  {
   "cell_type": "code",
   "execution_count": 77,
   "metadata": {},
   "outputs": [],
   "source": [
    "df_merged.to_csv(\"datos/df_merged_clean.csv\")"
   ]
  }
 ],
 "metadata": {
  "kernelspec": {
   "display_name": "Python 3",
   "language": "python",
   "name": "python3"
  },
  "language_info": {
   "codemirror_mode": {
    "name": "ipython",
    "version": 3
   },
   "file_extension": ".py",
   "mimetype": "text/x-python",
   "name": "python",
   "nbconvert_exporter": "python",
   "pygments_lexer": "ipython3",
   "version": "3.11.9"
  }
 },
 "nbformat": 4,
 "nbformat_minor": 2
}
