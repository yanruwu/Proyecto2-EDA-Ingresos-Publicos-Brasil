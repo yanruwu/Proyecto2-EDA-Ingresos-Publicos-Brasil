{
 "cells": [
  {
   "cell_type": "markdown",
   "metadata": {},
   "source": [
    "# Proyecto 2: EDA Ingresos Públicos de Brasil"
   ]
  },
  {
   "cell_type": "markdown",
   "metadata": {},
   "source": [
    "## 1. Lectura y Exploración Inicial"
   ]
  },
  {
   "cell_type": "code",
   "execution_count": 718,
   "metadata": {},
   "outputs": [],
   "source": [
    "import pandas as pd\n",
    "import numpy as np\n",
    "import matplotlib.pyplot as plt\n",
    "import seaborn as sns\n",
    "from functools import reduce\n",
    "import translators as ts\n",
    "import os"
   ]
  },
  {
   "cell_type": "markdown",
   "metadata": {},
   "source": [
    "Cogemos los nombres de los archivos para luego importarlos."
   ]
  },
  {
   "cell_type": "code",
   "execution_count": 719,
   "metadata": {},
   "outputs": [
    {
     "name": "stdout",
     "output_type": "stream",
     "text": [
      "['datos-2013.csv', 'datos-2014.csv', 'datos-2015.csv', 'datos-2016.csv', 'datos-2017.csv', 'datos-2018.csv', 'datos-2019.csv', 'datos-2020.csv', 'datos-2021.csv']\n"
     ]
    }
   ],
   "source": [
    "list_df_str = os.listdir(r\"datos\")[:-1]\n",
    "print(list_df_str)"
   ]
  },
  {
   "cell_type": "markdown",
   "metadata": {},
   "source": [
    "Generamos una lista de dataframes."
   ]
  },
  {
   "cell_type": "code",
   "execution_count": 720,
   "metadata": {},
   "outputs": [],
   "source": [
    "dfs_initial = list(map(lambda s: pd.read_csv(r\"datos/\"+s, sep = \";\"), list_df_str))"
   ]
  },
  {
   "cell_type": "markdown",
   "metadata": {},
   "source": [
    "Lista con los años de ejercicio de cada informe."
   ]
  },
  {
   "cell_type": "code",
   "execution_count": 721,
   "metadata": {},
   "outputs": [
    {
     "name": "stdout",
     "output_type": "stream",
     "text": [
      "[2013, 2014, 2015, 2016, 2017, 2018, 2019, 2020, 2021]\n"
     ]
    }
   ],
   "source": [
    "yearslist = list(map(int, map(lambda x: x.split(\"-\")[1][:4], list_df_str)))\n",
    "print(yearslist)"
   ]
  },
  {
   "cell_type": "markdown",
   "metadata": {},
   "source": [
    "Creamos una función que nos rellene las filas vacías de los años, teniendo en cuenta que debe tener el valor del ejercicio."
   ]
  },
  {
   "cell_type": "code",
   "execution_count": 722,
   "metadata": {},
   "outputs": [],
   "source": [
    "def fill_years(df_list, years_list):\n",
    "    clean_dfs = []\n",
    "    i = 0\n",
    "    for df in df_list:\n",
    "        df[\"ANO EXERCÍCIO\"] = df[\"ANO EXERCÍCIO\"].fillna(years_list[i])\n",
    "        clean_dfs.append(df)\n",
    "        i+=1\n",
    "    return clean_dfs"
   ]
  },
  {
   "cell_type": "markdown",
   "metadata": {},
   "source": [
    "Comprobamos que funcione"
   ]
  },
  {
   "cell_type": "code",
   "execution_count": 723,
   "metadata": {},
   "outputs": [],
   "source": [
    "dfs = fill_years(dfs_initial, yearslist)"
   ]
  },
  {
   "cell_type": "code",
   "execution_count": 724,
   "metadata": {},
   "outputs": [
    {
     "name": "stdout",
     "output_type": "stream",
     "text": [
      "[2013.]\n",
      "[2014.]\n",
      "[2015.]\n",
      "[2016.]\n",
      "[2017.]\n",
      "[2018.]\n",
      "[2019.]\n",
      "[2020.]\n",
      "[2021.]\n"
     ]
    }
   ],
   "source": [
    "for df in dfs:\n",
    "   print(df[\"ANO EXERCÍCIO\"].unique())"
   ]
  },
  {
   "cell_type": "markdown",
   "metadata": {},
   "source": [
    "Vamos a comprobar si todos los datos tienen las mismas columnas."
   ]
  },
  {
   "cell_type": "code",
   "execution_count": 725,
   "metadata": {},
   "outputs": [
    {
     "data": {
      "text/plain": [
       "True"
      ]
     },
     "execution_count": 725,
     "metadata": {},
     "output_type": "execute_result"
    }
   ],
   "source": [
    "column_checker = []\n",
    "for i in range(len(dfs)):\n",
    "    if i == len(dfs)-1:\n",
    "        break\n",
    "    column_checker.append(all(dfs[i].columns == dfs[i+1].columns))\n",
    "all(column_checker)"
   ]
  },
  {
   "cell_type": "markdown",
   "metadata": {},
   "source": [
    "Todos los datos tienen las mismas columnas: ✅"
   ]
  },
  {
   "cell_type": "code",
   "execution_count": 726,
   "metadata": {},
   "outputs": [],
   "source": [
    "first_datayear = int(list_df_str[0].split(\"-\")[1][:4])"
   ]
  },
  {
   "cell_type": "code",
   "execution_count": 727,
   "metadata": {},
   "outputs": [
    {
     "name": "stdout",
     "output_type": "stream",
     "text": [
      "Los types de los valores son consistentes\n"
     ]
    }
   ],
   "source": [
    "if first_datayear == reduce(lambda x,y: x if np.all(x.dtypes==y.dtypes) else None, dfs)[\"ANO EXERCÍCIO\"].unique():\n",
    "    print(\"Los types de los valores son consistentes\")"
   ]
  },
  {
   "cell_type": "code",
   "execution_count": 728,
   "metadata": {},
   "outputs": [],
   "source": [
    "df_merged = pd.concat(dfs).reset_index(drop = True)"
   ]
  },
  {
   "cell_type": "code",
   "execution_count": 729,
   "metadata": {},
   "outputs": [
    {
     "data": {
      "text/plain": [
       "Index(['CÓDIGO ÓRGÃO SUPERIOR', 'NOME ÓRGÃO SUPERIOR', 'CÓDIGO ÓRGÃO',\n",
       "       'NOME ÓRGÃO', 'CÓDIGO UNIDADE GESTORA', 'NOME UNIDADE GESTORA',\n",
       "       'CATEGORIA ECONÔMICA', 'ORIGEM RECEITA', 'ESPÉCIE RECEITA',\n",
       "       'DETALHAMENTO', 'VALOR PREVISTO ATUALIZADO', 'VALOR LANÇADO',\n",
       "       'VALOR REALIZADO', 'PERCENTUAL REALIZADO', 'DATA LANÇAMENTO',\n",
       "       'ANO EXERCÍCIO'],\n",
       "      dtype='object')"
      ]
     },
     "execution_count": 729,
     "metadata": {},
     "output_type": "execute_result"
    }
   ],
   "source": [
    "df_merged.columns"
   ]
  },
  {
   "cell_type": "code",
   "execution_count": 730,
   "metadata": {},
   "outputs": [],
   "source": [
    "newcol = {i:ts.translate_text(i,  to_language = \"en\").lower().replace(r\" \",  r\"_\") for i in df_merged.columns}\n",
    "df_merged.rename(columns=newcol, inplace = True)"
   ]
  },
  {
   "cell_type": "code",
   "execution_count": 731,
   "metadata": {},
   "outputs": [
    {
     "data": {
      "text/html": [
       "<div>\n",
       "<style scoped>\n",
       "    .dataframe tbody tr th:only-of-type {\n",
       "        vertical-align: middle;\n",
       "    }\n",
       "\n",
       "    .dataframe tbody tr th {\n",
       "        vertical-align: top;\n",
       "    }\n",
       "\n",
       "    .dataframe thead th {\n",
       "        text-align: right;\n",
       "    }\n",
       "</style>\n",
       "<table border=\"1\" class=\"dataframe\">\n",
       "  <thead>\n",
       "    <tr style=\"text-align: right;\">\n",
       "      <th></th>\n",
       "      <th>superior_body_code</th>\n",
       "      <th>name_superior_body</th>\n",
       "      <th>organ_code</th>\n",
       "      <th>organ_name</th>\n",
       "      <th>management_unit_code</th>\n",
       "      <th>name_management_unit</th>\n",
       "      <th>economy_category</th>\n",
       "      <th>source_revenue</th>\n",
       "      <th>recipe_species</th>\n",
       "      <th>detailing</th>\n",
       "      <th>updated_estimated_value</th>\n",
       "      <th>value_launched</th>\n",
       "      <th>realized_value</th>\n",
       "      <th>percentage_realized</th>\n",
       "      <th>release_date</th>\n",
       "      <th>financial_year</th>\n",
       "    </tr>\n",
       "  </thead>\n",
       "  <tbody>\n",
       "    <tr>\n",
       "      <th>0</th>\n",
       "      <td>63000.0</td>\n",
       "      <td>NaN</td>\n",
       "      <td>63000.0</td>\n",
       "      <td>Advocacia-Geral da União - Unidades com víncul...</td>\n",
       "      <td>110060.0</td>\n",
       "      <td>COORD. GERAL DE ORC. FIN. E ANAL. CONT. - AGU</td>\n",
       "      <td>Receitas Correntes</td>\n",
       "      <td>Outras Receitas Correntes</td>\n",
       "      <td>Bens, Direitos e Valores Incorporados ao Patr</td>\n",
       "      <td>REC.DIVIDA ATIVA NAO TRIBUTARIA DE OUTRAS REC</td>\n",
       "      <td>0,00</td>\n",
       "      <td>0,00</td>\n",
       "      <td>1297,13</td>\n",
       "      <td>0,00</td>\n",
       "      <td>31/12/2013</td>\n",
       "      <td>2013.0</td>\n",
       "    </tr>\n",
       "    <tr>\n",
       "      <th>1</th>\n",
       "      <td>63000.0</td>\n",
       "      <td>Advocacia-Geral da União</td>\n",
       "      <td>63000.0</td>\n",
       "      <td>Advocacia-Geral da União - Unidades com víncul...</td>\n",
       "      <td>110060.0</td>\n",
       "      <td>COORD. GERAL DE ORC. FIN. E ANAL. CONT. - AGU</td>\n",
       "      <td>Receitas Correntes</td>\n",
       "      <td>Outras Receitas Correntes</td>\n",
       "      <td>Indenizações, restituições e ressarcimentos</td>\n",
       "      <td>RECUPERACAO DE DESPESAS DE EXERC. ANTERIORES</td>\n",
       "      <td>0,00</td>\n",
       "      <td>0,00</td>\n",
       "      <td>26666621,42</td>\n",
       "      <td>0,00</td>\n",
       "      <td>31/12/2013</td>\n",
       "      <td>2013.0</td>\n",
       "    </tr>\n",
       "    <tr>\n",
       "      <th>2</th>\n",
       "      <td>63000.0</td>\n",
       "      <td>Advocacia-Geral da União</td>\n",
       "      <td>63000.0</td>\n",
       "      <td>Advocacia-Geral da União - Unidades com víncul...</td>\n",
       "      <td>110060.0</td>\n",
       "      <td>COORD. GERAL DE ORC. FIN. E ANAL. CONT. - AGU</td>\n",
       "      <td>Receitas Correntes</td>\n",
       "      <td>Outras Receitas Correntes</td>\n",
       "      <td>Multas administrativas, contratuais e judicia</td>\n",
       "      <td>OUTRAS MULTAS E JUROS DE MORA</td>\n",
       "      <td>0,00</td>\n",
       "      <td>0,00</td>\n",
       "      <td>301251,13</td>\n",
       "      <td>0,00</td>\n",
       "      <td>31/12/2013</td>\n",
       "      <td>2013.0</td>\n",
       "    </tr>\n",
       "    <tr>\n",
       "      <th>3</th>\n",
       "      <td>63000.0</td>\n",
       "      <td>NaN</td>\n",
       "      <td>63000.0</td>\n",
       "      <td>Advocacia-Geral da União - Unidades com víncul...</td>\n",
       "      <td>110060.0</td>\n",
       "      <td>COORD. GERAL DE ORC. FIN. E ANAL. CONT. - AGU</td>\n",
       "      <td>Receitas Correntes</td>\n",
       "      <td>Outras Receitas Correntes</td>\n",
       "      <td>Bens, Direitos e Valores Incorporados ao Patr</td>\n",
       "      <td>REC.DIV.ATIVA POR INFRAÇÃO ADMINISTRATIVA</td>\n",
       "      <td>0,00</td>\n",
       "      <td>0,00</td>\n",
       "      <td>1855,58</td>\n",
       "      <td>0,00</td>\n",
       "      <td>31/12/2013</td>\n",
       "      <td>2013.0</td>\n",
       "    </tr>\n",
       "    <tr>\n",
       "      <th>4</th>\n",
       "      <td>63000.0</td>\n",
       "      <td>Advocacia-Geral da União</td>\n",
       "      <td>63000.0</td>\n",
       "      <td>Advocacia-Geral da União - Unidades com víncul...</td>\n",
       "      <td>110060.0</td>\n",
       "      <td>COORD. GERAL DE ORC. FIN. E ANAL. CONT. - AGU</td>\n",
       "      <td>Receitas Correntes</td>\n",
       "      <td>Outras Receitas Correntes</td>\n",
       "      <td>Indenizações, restituições e ressarcimentos</td>\n",
       "      <td>OUTRAS RESTITUICOES</td>\n",
       "      <td>0,00</td>\n",
       "      <td>0,00</td>\n",
       "      <td>52140,68</td>\n",
       "      <td>0,00</td>\n",
       "      <td>31/12/2013</td>\n",
       "      <td>2013.0</td>\n",
       "    </tr>\n",
       "  </tbody>\n",
       "</table>\n",
       "</div>"
      ],
      "text/plain": [
       "   superior_body_code        name_superior_body  organ_code  \\\n",
       "0             63000.0                       NaN     63000.0   \n",
       "1             63000.0  Advocacia-Geral da União     63000.0   \n",
       "2             63000.0  Advocacia-Geral da União     63000.0   \n",
       "3             63000.0                       NaN     63000.0   \n",
       "4             63000.0  Advocacia-Geral da União     63000.0   \n",
       "\n",
       "                                          organ_name  management_unit_code  \\\n",
       "0  Advocacia-Geral da União - Unidades com víncul...              110060.0   \n",
       "1  Advocacia-Geral da União - Unidades com víncul...              110060.0   \n",
       "2  Advocacia-Geral da União - Unidades com víncul...              110060.0   \n",
       "3  Advocacia-Geral da União - Unidades com víncul...              110060.0   \n",
       "4  Advocacia-Geral da União - Unidades com víncul...              110060.0   \n",
       "\n",
       "                            name_management_unit    economy_category  \\\n",
       "0  COORD. GERAL DE ORC. FIN. E ANAL. CONT. - AGU  Receitas Correntes   \n",
       "1  COORD. GERAL DE ORC. FIN. E ANAL. CONT. - AGU  Receitas Correntes   \n",
       "2  COORD. GERAL DE ORC. FIN. E ANAL. CONT. - AGU  Receitas Correntes   \n",
       "3  COORD. GERAL DE ORC. FIN. E ANAL. CONT. - AGU  Receitas Correntes   \n",
       "4  COORD. GERAL DE ORC. FIN. E ANAL. CONT. - AGU  Receitas Correntes   \n",
       "\n",
       "              source_revenue                                 recipe_species  \\\n",
       "0  Outras Receitas Correntes  Bens, Direitos e Valores Incorporados ao Patr   \n",
       "1  Outras Receitas Correntes    Indenizações, restituições e ressarcimentos   \n",
       "2  Outras Receitas Correntes  Multas administrativas, contratuais e judicia   \n",
       "3  Outras Receitas Correntes  Bens, Direitos e Valores Incorporados ao Patr   \n",
       "4  Outras Receitas Correntes    Indenizações, restituições e ressarcimentos   \n",
       "\n",
       "                                       detailing updated_estimated_value  \\\n",
       "0  REC.DIVIDA ATIVA NAO TRIBUTARIA DE OUTRAS REC                    0,00   \n",
       "1   RECUPERACAO DE DESPESAS DE EXERC. ANTERIORES                    0,00   \n",
       "2                  OUTRAS MULTAS E JUROS DE MORA                    0,00   \n",
       "3      REC.DIV.ATIVA POR INFRAÇÃO ADMINISTRATIVA                    0,00   \n",
       "4                            OUTRAS RESTITUICOES                    0,00   \n",
       "\n",
       "  value_launched realized_value percentage_realized release_date  \\\n",
       "0           0,00        1297,13                0,00   31/12/2013   \n",
       "1           0,00    26666621,42                0,00   31/12/2013   \n",
       "2           0,00      301251,13                0,00   31/12/2013   \n",
       "3           0,00        1855,58                0,00   31/12/2013   \n",
       "4           0,00       52140,68                0,00   31/12/2013   \n",
       "\n",
       "   financial_year  \n",
       "0          2013.0  \n",
       "1          2013.0  \n",
       "2          2013.0  \n",
       "3          2013.0  \n",
       "4          2013.0  "
      ]
     },
     "execution_count": 731,
     "metadata": {},
     "output_type": "execute_result"
    }
   ],
   "source": [
    "df_merged.head()"
   ]
  },
  {
   "cell_type": "code",
   "execution_count": 732,
   "metadata": {},
   "outputs": [],
   "source": [
    "def dict_codes_gen(code, name):\n",
    "    dict_codes = dict()\n",
    "    for i in range(len(code)):\n",
    "        if pd.isna(code[i]) or pd.isna(name[i]) or code[i] in dict_codes.keys():\n",
    "            continue\n",
    "        else:\n",
    "            dict_codes[code[i]] = name[i]\n",
    "    return dict_codes"
   ]
  },
  {
   "cell_type": "markdown",
   "metadata": {},
   "source": [
    "Comprobamos si hay columnas nulas."
   ]
  },
  {
   "cell_type": "code",
   "execution_count": 733,
   "metadata": {},
   "outputs": [
    {
     "name": "stdout",
     "output_type": "stream",
     "text": [
      "0 columnas nulas.\n"
     ]
    }
   ],
   "source": [
    "print(f\"{df_merged.isna().all(axis = 0).sum()} columnas nulas.\")"
   ]
  },
  {
   "cell_type": "code",
   "execution_count": 734,
   "metadata": {},
   "outputs": [
    {
     "data": {
      "text/plain": [
       "superior_body_code         0.029581\n",
       "name_superior_body         0.350001\n",
       "organ_code                 0.024473\n",
       "organ_name                 0.033993\n",
       "management_unit_code       0.032720\n",
       "name_management_unit       0.018982\n",
       "economy_category           0.018492\n",
       "source_revenue             0.037434\n",
       "recipe_species             0.031109\n",
       "detailing                  0.028585\n",
       "updated_estimated_value    0.050000\n",
       "value_launched             0.025742\n",
       "realized_value             0.038454\n",
       "percentage_realized        0.023516\n",
       "release_date               0.023220\n",
       "financial_year             0.000000\n",
       "dtype: float64"
      ]
     },
     "execution_count": 734,
     "metadata": {},
     "output_type": "execute_result"
    }
   ],
   "source": [
    "df_merged.isna().sum()/df_merged.shape[0]"
   ]
  },
  {
   "cell_type": "markdown",
   "metadata": {},
   "source": [
    "Creamos diccionarios donde se relacionan el código de una entidad con su nombre."
   ]
  },
  {
   "cell_type": "code",
   "execution_count": 735,
   "metadata": {},
   "outputs": [],
   "source": [
    "superior_body_dict = dict_codes_gen(df_merged[\"superior_body_code\"].values, df_merged[\"name_superior_body\"].values)\n",
    "organ_dict = dict_codes_gen(df_merged[\"organ_code\"].values, df_merged[\"organ_name\"].values)\n",
    "management_dict = dict_codes_gen(df_merged[\"management_unit_code\"].values, df_merged[\"name_management_unit\"].values)"
   ]
  },
  {
   "cell_type": "code",
   "execution_count": 737,
   "metadata": {},
   "outputs": [
    {
     "data": {
      "text/plain": [
       "Index(['superior_body_code', 'name_superior_body', 'organ_code', 'organ_name',\n",
       "       'management_unit_code', 'name_management_unit', 'economy_category',\n",
       "       'source_revenue', 'recipe_species', 'detailing',\n",
       "       'updated_estimated_value', 'value_launched', 'realized_value',\n",
       "       'percentage_realized', 'release_date', 'financial_year'],\n",
       "      dtype='object')"
      ]
     },
     "execution_count": 737,
     "metadata": {},
     "output_type": "execute_result"
    }
   ],
   "source": [
    "df_merged.columns"
   ]
  },
  {
   "cell_type": "code",
   "execution_count": 738,
   "metadata": {},
   "outputs": [
    {
     "data": {
      "text/plain": [
       "superior_body_code          30359\n",
       "name_superior_body         359206\n",
       "organ_code                  25117\n",
       "organ_name                  34887\n",
       "management_unit_code        33581\n",
       "name_management_unit        19481\n",
       "economy_category            18978\n",
       "source_revenue              38418\n",
       "recipe_species              31927\n",
       "detailing                   29337\n",
       "updated_estimated_value     51315\n",
       "value_launched              26419\n",
       "realized_value              39465\n",
       "percentage_realized         24134\n",
       "release_date                23831\n",
       "financial_year                  0\n",
       "dtype: int64"
      ]
     },
     "execution_count": 738,
     "metadata": {},
     "output_type": "execute_result"
    }
   ],
   "source": [
    "df_merged.isna().sum()"
   ]
  },
  {
   "cell_type": "code",
   "execution_count": 739,
   "metadata": {},
   "outputs": [],
   "source": [
    "df_merged['organ_name'] = df_merged['organ_code'].map(organ_dict).fillna(df_merged['organ_name'])\n",
    "df_merged['name_superior_body'] = df_merged['superior_body_code'].map(superior_body_dict).fillna(df_merged['name_superior_body'])\n",
    "df_merged['name_management_unit'] = df_merged['management_unit_code'].map(management_dict).fillna(df_merged['name_management_unit'])"
   ]
  },
  {
   "cell_type": "code",
   "execution_count": 740,
   "metadata": {},
   "outputs": [
    {
     "data": {
      "text/plain": [
       "superior_body_code         30359\n",
       "name_superior_body         10545\n",
       "organ_code                 25117\n",
       "organ_name                   905\n",
       "management_unit_code       33581\n",
       "name_management_unit         614\n",
       "economy_category           18978\n",
       "source_revenue             38418\n",
       "recipe_species             31927\n",
       "detailing                  29337\n",
       "updated_estimated_value    51315\n",
       "value_launched             26419\n",
       "realized_value             39465\n",
       "percentage_realized        24134\n",
       "release_date               23831\n",
       "financial_year                 0\n",
       "dtype: int64"
      ]
     },
     "execution_count": 740,
     "metadata": {},
     "output_type": "execute_result"
    }
   ],
   "source": [
    "df_merged.isna().sum()"
   ]
  },
  {
   "cell_type": "code",
   "execution_count": 744,
   "metadata": {},
   "outputs": [],
   "source": [
    "organ_name_to_code = {v: k for k, v in organ_dict.items()}\n",
    "superior_body_name_to_code = {v: k for k, v in superior_body_dict.items()}\n",
    "management_unit_name_to_code = {v: k for k, v in management_dict.items()}"
   ]
  },
  {
   "cell_type": "code",
   "execution_count": 747,
   "metadata": {},
   "outputs": [
    {
     "data": {
      "text/plain": [
       "superior_body_code         10545\n",
       "name_superior_body         10545\n",
       "organ_code                   905\n",
       "organ_name                   905\n",
       "management_unit_code         614\n",
       "name_management_unit         614\n",
       "economy_category           18978\n",
       "source_revenue             38418\n",
       "recipe_species             31927\n",
       "detailing                  29337\n",
       "updated_estimated_value    51315\n",
       "value_launched             26419\n",
       "realized_value             39465\n",
       "percentage_realized        24134\n",
       "release_date               23831\n",
       "financial_year                 0\n",
       "dtype: int64"
      ]
     },
     "execution_count": 747,
     "metadata": {},
     "output_type": "execute_result"
    }
   ],
   "source": [
    "df_merged['organ_code'] = df_merged['organ_name'].map(organ_name_to_code).fillna(df_merged['organ_code'])\n",
    "df_merged['superior_body_code'] = df_merged['name_superior_body'].map(superior_body_name_to_code).fillna(df_merged['superior_body_code'])\n",
    "df_merged['management_unit_code'] = df_merged['name_management_unit'].map(management_unit_name_to_code).fillna(df_merged['management_unit_code'])\n",
    "\n",
    "df_merged.isna().sum()"
   ]
  },
  {
   "cell_type": "code",
   "execution_count": 742,
   "metadata": {},
   "outputs": [],
   "source": [
    "df_merged[\"value_launched\"] = df_merged[\"value_launched\"].str.replace(\",\",\".\").apply(float).abs()"
   ]
  },
  {
   "cell_type": "code",
   "execution_count": 743,
   "metadata": {},
   "outputs": [
    {
     "data": {
      "text/plain": [
       "superior_body_code                                                   25000.0\n",
       "name_superior_body                                    Ministério da Economia\n",
       "organ_code                                                           25000.0\n",
       "organ_name                 Ministério da Economia - Unidades com vínculo ...\n",
       "management_unit_code                                                170010.0\n",
       "name_management_unit             SECRETARIA DA RECEITA FEDERAL DO BRASIL-RFB\n",
       "economy_category                                          Receitas Correntes\n",
       "source_revenue                   Impostos, Taxas e Contribuições de Melhoria\n",
       "recipe_species                                                      Impostos\n",
       "detailing                          PESSOAS JURIDICAS - LIQUIDA DE INCENTIVOS\n",
       "updated_estimated_value                                                 0,00\n",
       "value_launched                                           357160677863.969971\n",
       "realized_value                                                          0,00\n",
       "percentage_realized                                                     0,00\n",
       "release_date                                                      31/12/2014\n",
       "financial_year                                                        2014.0\n",
       "Name: 5744, dtype: object"
      ]
     },
     "execution_count": 743,
     "metadata": {},
     "output_type": "execute_result"
    }
   ],
   "source": [
    "df_merged.iloc[df_merged[\"value_launched\"].idxmax(axis = 0)]"
   ]
  }
 ],
 "metadata": {
  "kernelspec": {
   "display_name": "Python 3",
   "language": "python",
   "name": "python3"
  },
  "language_info": {
   "codemirror_mode": {
    "name": "ipython",
    "version": 3
   },
   "file_extension": ".py",
   "mimetype": "text/x-python",
   "name": "python",
   "nbconvert_exporter": "python",
   "pygments_lexer": "ipython3",
   "version": "3.11.9"
  }
 },
 "nbformat": 4,
 "nbformat_minor": 2
}
