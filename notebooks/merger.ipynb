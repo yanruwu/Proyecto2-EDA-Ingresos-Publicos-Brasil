{
 "cells": [
  {
   "cell_type": "markdown",
   "metadata": {},
   "source": [
    "# Proyecto 2: EDA Ingresos Públicos de Brasil"
   ]
  },
  {
   "cell_type": "markdown",
   "metadata": {},
   "source": [
    "## 1. Lectura y Exploración Inicial"
   ]
  },
  {
   "cell_type": "code",
   "execution_count": 1,
   "metadata": {},
   "outputs": [],
   "source": [
    "import pandas as pd\n",
    "import numpy as np\n",
    "import matplotlib.pyplot as plt\n",
    "import seaborn as sns\n",
    "from functools import reduce\n",
    "import translators as ts\n",
    "import os\n",
    "import re"
   ]
  },
  {
   "cell_type": "markdown",
   "metadata": {},
   "source": [
    "Cogemos los nombres de los archivos para luego importarlos."
   ]
  },
  {
   "cell_type": "code",
   "execution_count": 2,
   "metadata": {},
   "outputs": [
    {
     "name": "stdout",
     "output_type": "stream",
     "text": [
      "['datos-2013.csv', 'datos-2014.csv', 'datos-2015.csv', 'datos-2016.csv', 'datos-2017.csv', 'datos-2018.csv', 'datos-2019.csv', 'datos-2020.csv', 'datos-2021.csv']\n"
     ]
    }
   ],
   "source": [
    "list_df_str = os.listdir(r\"../datos\")\n",
    "list_df_str = [f for f in list_df_str if re.match(r'datos-\\d{4}\\.csv', f)]\n",
    "print(list_df_str)"
   ]
  },
  {
   "cell_type": "markdown",
   "metadata": {},
   "source": [
    "Generamos una lista de dataframes."
   ]
  },
  {
   "cell_type": "code",
   "execution_count": 3,
   "metadata": {},
   "outputs": [],
   "source": [
    "dfs_initial = list(map(lambda s: pd.read_csv(r\"../datos/\"+s, sep = \";\"), list_df_str))"
   ]
  },
  {
   "cell_type": "markdown",
   "metadata": {},
   "source": [
    "Lista con los años de ejercicio de cada informe."
   ]
  },
  {
   "cell_type": "code",
   "execution_count": 4,
   "metadata": {},
   "outputs": [
    {
     "name": "stdout",
     "output_type": "stream",
     "text": [
      "[2013, 2014, 2015, 2016, 2017, 2018, 2019, 2020, 2021]\n"
     ]
    }
   ],
   "source": [
    "yearslist = list(map(int, map(lambda x: x.split(\"-\")[1][:4], list_df_str)))\n",
    "print(yearslist)"
   ]
  },
  {
   "cell_type": "markdown",
   "metadata": {},
   "source": [
    "Creamos una función que nos rellene las filas vacías de los años, teniendo en cuenta que debe tener el valor del ejercicio."
   ]
  },
  {
   "cell_type": "code",
   "execution_count": 11,
   "metadata": {},
   "outputs": [],
   "source": [
    "def fill_years(df_list, years_list):\n",
    "    clean_dfs = []\n",
    "    i = 0\n",
    "    for df in df_list:\n",
    "        df[\"ANO EXERCÍCIO\"] = df[\"ANO EXERCÍCIO\"].fillna(years_list[i])\n",
    "        clean_dfs.append(df)\n",
    "        i+=1\n",
    "    return clean_dfs"
   ]
  },
  {
   "cell_type": "markdown",
   "metadata": {},
   "source": [
    "Comprobamos que funcione"
   ]
  },
  {
   "cell_type": "code",
   "execution_count": 13,
   "metadata": {},
   "outputs": [],
   "source": [
    "dfs = fill_years(dfs_initial, yearslist)"
   ]
  },
  {
   "cell_type": "code",
   "execution_count": 14,
   "metadata": {},
   "outputs": [
    {
     "name": "stdout",
     "output_type": "stream",
     "text": [
      "[2013.]\n",
      "[2014.]\n",
      "[2015.]\n",
      "[2016.]\n",
      "[2017.]\n",
      "[2018.]\n",
      "[2019.]\n",
      "[2020.]\n",
      "[2021.]\n"
     ]
    }
   ],
   "source": [
    "for df in dfs:\n",
    "   print(df[\"ANO EXERCÍCIO\"].unique())"
   ]
  },
  {
   "cell_type": "markdown",
   "metadata": {},
   "source": [
    "Vamos a comprobar si todos los datos tienen las mismas columnas."
   ]
  },
  {
   "cell_type": "code",
   "execution_count": 15,
   "metadata": {},
   "outputs": [
    {
     "data": {
      "text/plain": [
       "True"
      ]
     },
     "execution_count": 15,
     "metadata": {},
     "output_type": "execute_result"
    }
   ],
   "source": [
    "column_checker = []\n",
    "for i in range(len(dfs)):\n",
    "    if i == len(dfs)-1:\n",
    "        break\n",
    "    column_checker.append(all(dfs[i].columns == dfs[i+1].columns))\n",
    "all(column_checker)"
   ]
  },
  {
   "cell_type": "markdown",
   "metadata": {},
   "source": [
    "Todos los datos tienen las mismas columnas: ✅"
   ]
  },
  {
   "cell_type": "code",
   "execution_count": 16,
   "metadata": {},
   "outputs": [],
   "source": [
    "first_datayear = int(list_df_str[0].split(\"-\")[1][:4])"
   ]
  },
  {
   "cell_type": "code",
   "execution_count": 17,
   "metadata": {},
   "outputs": [
    {
     "name": "stdout",
     "output_type": "stream",
     "text": [
      "Los types de los valores son consistentes\n"
     ]
    }
   ],
   "source": [
    "if first_datayear == reduce(lambda x,y: x if np.all(x.dtypes==y.dtypes) else None, dfs)[\"ANO EXERCÍCIO\"].unique():\n",
    "    print(\"Los types de los valores son consistentes\")"
   ]
  },
  {
   "cell_type": "code",
   "execution_count": 18,
   "metadata": {},
   "outputs": [],
   "source": [
    "df_merged = pd.concat(dfs).reset_index(drop = True)"
   ]
  },
  {
   "cell_type": "code",
   "execution_count": 19,
   "metadata": {},
   "outputs": [
    {
     "data": {
      "text/plain": [
       "Index(['CÓDIGO ÓRGÃO SUPERIOR', 'NOME ÓRGÃO SUPERIOR', 'CÓDIGO ÓRGÃO',\n",
       "       'NOME ÓRGÃO', 'CÓDIGO UNIDADE GESTORA', 'NOME UNIDADE GESTORA',\n",
       "       'CATEGORIA ECONÔMICA', 'ORIGEM RECEITA', 'ESPÉCIE RECEITA',\n",
       "       'DETALHAMENTO', 'VALOR PREVISTO ATUALIZADO', 'VALOR LANÇADO',\n",
       "       'VALOR REALIZADO', 'PERCENTUAL REALIZADO', 'DATA LANÇAMENTO',\n",
       "       'ANO EXERCÍCIO'],\n",
       "      dtype='object')"
      ]
     },
     "execution_count": 19,
     "metadata": {},
     "output_type": "execute_result"
    }
   ],
   "source": [
    "df_merged.columns"
   ]
  },
  {
   "cell_type": "code",
   "execution_count": 20,
   "metadata": {},
   "outputs": [],
   "source": [
    "newcol = {i:ts.translate_text(i,  to_language = \"en\").lower().replace(r\" \",  r\"_\") for i in df_merged.columns}\n",
    "df_merged.rename(columns=newcol, inplace = True)"
   ]
  },
  {
   "cell_type": "code",
   "execution_count": 21,
   "metadata": {},
   "outputs": [
    {
     "data": {
      "text/html": [
       "<div>\n",
       "<style scoped>\n",
       "    .dataframe tbody tr th:only-of-type {\n",
       "        vertical-align: middle;\n",
       "    }\n",
       "\n",
       "    .dataframe tbody tr th {\n",
       "        vertical-align: top;\n",
       "    }\n",
       "\n",
       "    .dataframe thead th {\n",
       "        text-align: right;\n",
       "    }\n",
       "</style>\n",
       "<table border=\"1\" class=\"dataframe\">\n",
       "  <thead>\n",
       "    <tr style=\"text-align: right;\">\n",
       "      <th></th>\n",
       "      <th>superior_body_code</th>\n",
       "      <th>name_superior_body</th>\n",
       "      <th>organ_code</th>\n",
       "      <th>organ_name</th>\n",
       "      <th>management_unit_code</th>\n",
       "      <th>name_management_unit</th>\n",
       "      <th>economy_category</th>\n",
       "      <th>source_revenue</th>\n",
       "      <th>recipe_species</th>\n",
       "      <th>detailing</th>\n",
       "      <th>updated_estimated_value</th>\n",
       "      <th>value_launched</th>\n",
       "      <th>realized_value</th>\n",
       "      <th>percentage_realized</th>\n",
       "      <th>release_date</th>\n",
       "      <th>financial_year</th>\n",
       "    </tr>\n",
       "  </thead>\n",
       "  <tbody>\n",
       "    <tr>\n",
       "      <th>0</th>\n",
       "      <td>63000.0</td>\n",
       "      <td>NaN</td>\n",
       "      <td>63000.0</td>\n",
       "      <td>Advocacia-Geral da União - Unidades com víncul...</td>\n",
       "      <td>110060.0</td>\n",
       "      <td>COORD. GERAL DE ORC. FIN. E ANAL. CONT. - AGU</td>\n",
       "      <td>Receitas Correntes</td>\n",
       "      <td>Outras Receitas Correntes</td>\n",
       "      <td>Bens, Direitos e Valores Incorporados ao Patr</td>\n",
       "      <td>REC.DIVIDA ATIVA NAO TRIBUTARIA DE OUTRAS REC</td>\n",
       "      <td>0,00</td>\n",
       "      <td>0,00</td>\n",
       "      <td>1297,13</td>\n",
       "      <td>0,00</td>\n",
       "      <td>31/12/2013</td>\n",
       "      <td>2013.0</td>\n",
       "    </tr>\n",
       "    <tr>\n",
       "      <th>1</th>\n",
       "      <td>63000.0</td>\n",
       "      <td>Advocacia-Geral da União</td>\n",
       "      <td>63000.0</td>\n",
       "      <td>Advocacia-Geral da União - Unidades com víncul...</td>\n",
       "      <td>110060.0</td>\n",
       "      <td>COORD. GERAL DE ORC. FIN. E ANAL. CONT. - AGU</td>\n",
       "      <td>Receitas Correntes</td>\n",
       "      <td>Outras Receitas Correntes</td>\n",
       "      <td>Indenizações, restituições e ressarcimentos</td>\n",
       "      <td>RECUPERACAO DE DESPESAS DE EXERC. ANTERIORES</td>\n",
       "      <td>0,00</td>\n",
       "      <td>0,00</td>\n",
       "      <td>26666621,42</td>\n",
       "      <td>0,00</td>\n",
       "      <td>31/12/2013</td>\n",
       "      <td>2013.0</td>\n",
       "    </tr>\n",
       "    <tr>\n",
       "      <th>2</th>\n",
       "      <td>63000.0</td>\n",
       "      <td>Advocacia-Geral da União</td>\n",
       "      <td>63000.0</td>\n",
       "      <td>Advocacia-Geral da União - Unidades com víncul...</td>\n",
       "      <td>110060.0</td>\n",
       "      <td>COORD. GERAL DE ORC. FIN. E ANAL. CONT. - AGU</td>\n",
       "      <td>Receitas Correntes</td>\n",
       "      <td>Outras Receitas Correntes</td>\n",
       "      <td>Multas administrativas, contratuais e judicia</td>\n",
       "      <td>OUTRAS MULTAS E JUROS DE MORA</td>\n",
       "      <td>0,00</td>\n",
       "      <td>0,00</td>\n",
       "      <td>301251,13</td>\n",
       "      <td>0,00</td>\n",
       "      <td>31/12/2013</td>\n",
       "      <td>2013.0</td>\n",
       "    </tr>\n",
       "    <tr>\n",
       "      <th>3</th>\n",
       "      <td>63000.0</td>\n",
       "      <td>NaN</td>\n",
       "      <td>63000.0</td>\n",
       "      <td>Advocacia-Geral da União - Unidades com víncul...</td>\n",
       "      <td>110060.0</td>\n",
       "      <td>COORD. GERAL DE ORC. FIN. E ANAL. CONT. - AGU</td>\n",
       "      <td>Receitas Correntes</td>\n",
       "      <td>Outras Receitas Correntes</td>\n",
       "      <td>Bens, Direitos e Valores Incorporados ao Patr</td>\n",
       "      <td>REC.DIV.ATIVA POR INFRAÇÃO ADMINISTRATIVA</td>\n",
       "      <td>0,00</td>\n",
       "      <td>0,00</td>\n",
       "      <td>1855,58</td>\n",
       "      <td>0,00</td>\n",
       "      <td>31/12/2013</td>\n",
       "      <td>2013.0</td>\n",
       "    </tr>\n",
       "    <tr>\n",
       "      <th>4</th>\n",
       "      <td>63000.0</td>\n",
       "      <td>Advocacia-Geral da União</td>\n",
       "      <td>63000.0</td>\n",
       "      <td>Advocacia-Geral da União - Unidades com víncul...</td>\n",
       "      <td>110060.0</td>\n",
       "      <td>COORD. GERAL DE ORC. FIN. E ANAL. CONT. - AGU</td>\n",
       "      <td>Receitas Correntes</td>\n",
       "      <td>Outras Receitas Correntes</td>\n",
       "      <td>Indenizações, restituições e ressarcimentos</td>\n",
       "      <td>OUTRAS RESTITUICOES</td>\n",
       "      <td>0,00</td>\n",
       "      <td>0,00</td>\n",
       "      <td>52140,68</td>\n",
       "      <td>0,00</td>\n",
       "      <td>31/12/2013</td>\n",
       "      <td>2013.0</td>\n",
       "    </tr>\n",
       "  </tbody>\n",
       "</table>\n",
       "</div>"
      ],
      "text/plain": [
       "   superior_body_code        name_superior_body  organ_code  \\\n",
       "0             63000.0                       NaN     63000.0   \n",
       "1             63000.0  Advocacia-Geral da União     63000.0   \n",
       "2             63000.0  Advocacia-Geral da União     63000.0   \n",
       "3             63000.0                       NaN     63000.0   \n",
       "4             63000.0  Advocacia-Geral da União     63000.0   \n",
       "\n",
       "                                          organ_name  management_unit_code  \\\n",
       "0  Advocacia-Geral da União - Unidades com víncul...              110060.0   \n",
       "1  Advocacia-Geral da União - Unidades com víncul...              110060.0   \n",
       "2  Advocacia-Geral da União - Unidades com víncul...              110060.0   \n",
       "3  Advocacia-Geral da União - Unidades com víncul...              110060.0   \n",
       "4  Advocacia-Geral da União - Unidades com víncul...              110060.0   \n",
       "\n",
       "                            name_management_unit    economy_category  \\\n",
       "0  COORD. GERAL DE ORC. FIN. E ANAL. CONT. - AGU  Receitas Correntes   \n",
       "1  COORD. GERAL DE ORC. FIN. E ANAL. CONT. - AGU  Receitas Correntes   \n",
       "2  COORD. GERAL DE ORC. FIN. E ANAL. CONT. - AGU  Receitas Correntes   \n",
       "3  COORD. GERAL DE ORC. FIN. E ANAL. CONT. - AGU  Receitas Correntes   \n",
       "4  COORD. GERAL DE ORC. FIN. E ANAL. CONT. - AGU  Receitas Correntes   \n",
       "\n",
       "              source_revenue                                 recipe_species  \\\n",
       "0  Outras Receitas Correntes  Bens, Direitos e Valores Incorporados ao Patr   \n",
       "1  Outras Receitas Correntes    Indenizações, restituições e ressarcimentos   \n",
       "2  Outras Receitas Correntes  Multas administrativas, contratuais e judicia   \n",
       "3  Outras Receitas Correntes  Bens, Direitos e Valores Incorporados ao Patr   \n",
       "4  Outras Receitas Correntes    Indenizações, restituições e ressarcimentos   \n",
       "\n",
       "                                       detailing updated_estimated_value  \\\n",
       "0  REC.DIVIDA ATIVA NAO TRIBUTARIA DE OUTRAS REC                    0,00   \n",
       "1   RECUPERACAO DE DESPESAS DE EXERC. ANTERIORES                    0,00   \n",
       "2                  OUTRAS MULTAS E JUROS DE MORA                    0,00   \n",
       "3      REC.DIV.ATIVA POR INFRAÇÃO ADMINISTRATIVA                    0,00   \n",
       "4                            OUTRAS RESTITUICOES                    0,00   \n",
       "\n",
       "  value_launched realized_value percentage_realized release_date  \\\n",
       "0           0,00        1297,13                0,00   31/12/2013   \n",
       "1           0,00    26666621,42                0,00   31/12/2013   \n",
       "2           0,00      301251,13                0,00   31/12/2013   \n",
       "3           0,00        1855,58                0,00   31/12/2013   \n",
       "4           0,00       52140,68                0,00   31/12/2013   \n",
       "\n",
       "   financial_year  \n",
       "0          2013.0  \n",
       "1          2013.0  \n",
       "2          2013.0  \n",
       "3          2013.0  \n",
       "4          2013.0  "
      ]
     },
     "execution_count": 21,
     "metadata": {},
     "output_type": "execute_result"
    }
   ],
   "source": [
    "df_merged.head()"
   ]
  },
  {
   "cell_type": "code",
   "execution_count": 22,
   "metadata": {},
   "outputs": [],
   "source": [
    "def dict_codes_gen(code, name):\n",
    "    dict_codes = dict()\n",
    "    for i in range(len(code)):\n",
    "        if pd.isna(code[i]) or pd.isna(name[i]) or code[i] in dict_codes.keys():\n",
    "            continue\n",
    "        else:\n",
    "            dict_codes[code[i]] = name[i]\n",
    "    return dict_codes"
   ]
  },
  {
   "cell_type": "markdown",
   "metadata": {},
   "source": [
    "Comprobamos si hay columnas nulas."
   ]
  },
  {
   "cell_type": "code",
   "execution_count": 23,
   "metadata": {},
   "outputs": [
    {
     "name": "stdout",
     "output_type": "stream",
     "text": [
      "0 columnas nulas.\n"
     ]
    }
   ],
   "source": [
    "print(f\"{df_merged.isna().all(axis = 0).sum()} columnas nulas.\")"
   ]
  },
  {
   "cell_type": "code",
   "execution_count": 24,
   "metadata": {},
   "outputs": [
    {
     "data": {
      "text/plain": [
       "superior_body_code         0.029581\n",
       "name_superior_body         0.350001\n",
       "organ_code                 0.024473\n",
       "organ_name                 0.033993\n",
       "management_unit_code       0.032720\n",
       "name_management_unit       0.018982\n",
       "economy_category           0.018492\n",
       "source_revenue             0.037434\n",
       "recipe_species             0.031109\n",
       "detailing                  0.028585\n",
       "updated_estimated_value    0.050000\n",
       "value_launched             0.025742\n",
       "realized_value             0.038454\n",
       "percentage_realized        0.023516\n",
       "release_date               0.023220\n",
       "financial_year             0.000000\n",
       "dtype: float64"
      ]
     },
     "execution_count": 24,
     "metadata": {},
     "output_type": "execute_result"
    }
   ],
   "source": [
    "df_merged.isna().sum()/df_merged.shape[0]"
   ]
  },
  {
   "cell_type": "markdown",
   "metadata": {},
   "source": [
    "Creamos diccionarios donde se relacionan el código de una entidad con su nombre."
   ]
  },
  {
   "cell_type": "code",
   "execution_count": 25,
   "metadata": {},
   "outputs": [],
   "source": [
    "superior_body_dict = dict_codes_gen(df_merged[\"superior_body_code\"].values, df_merged[\"name_superior_body\"].values)\n",
    "organ_dict = dict_codes_gen(df_merged[\"organ_code\"].values, df_merged[\"organ_name\"].values)\n",
    "management_dict = dict_codes_gen(df_merged[\"management_unit_code\"].values, df_merged[\"name_management_unit\"].values)"
   ]
  },
  {
   "cell_type": "code",
   "execution_count": 26,
   "metadata": {},
   "outputs": [
    {
     "data": {
      "text/plain": [
       "Index(['superior_body_code', 'name_superior_body', 'organ_code', 'organ_name',\n",
       "       'management_unit_code', 'name_management_unit', 'economy_category',\n",
       "       'source_revenue', 'recipe_species', 'detailing',\n",
       "       'updated_estimated_value', 'value_launched', 'realized_value',\n",
       "       'percentage_realized', 'release_date', 'financial_year'],\n",
       "      dtype='object')"
      ]
     },
     "execution_count": 26,
     "metadata": {},
     "output_type": "execute_result"
    }
   ],
   "source": [
    "df_merged.columns"
   ]
  },
  {
   "cell_type": "code",
   "execution_count": 27,
   "metadata": {},
   "outputs": [
    {
     "data": {
      "text/plain": [
       "10545"
      ]
     },
     "execution_count": 27,
     "metadata": {},
     "output_type": "execute_result"
    }
   ],
   "source": [
    "df_merged[[\"superior_body_code\", \"name_superior_body\"]].isna().all(axis = 1).sum()"
   ]
  },
  {
   "cell_type": "code",
   "execution_count": 28,
   "metadata": {},
   "outputs": [
    {
     "data": {
      "text/plain": [
       "superior_body_code          30359\n",
       "name_superior_body         359206\n",
       "organ_code                  25117\n",
       "organ_name                  34887\n",
       "management_unit_code        33581\n",
       "name_management_unit        19481\n",
       "economy_category            18978\n",
       "source_revenue              38418\n",
       "recipe_species              31927\n",
       "detailing                   29337\n",
       "updated_estimated_value     51315\n",
       "value_launched              26419\n",
       "realized_value              39465\n",
       "percentage_realized         24134\n",
       "release_date                23831\n",
       "financial_year                  0\n",
       "dtype: int64"
      ]
     },
     "execution_count": 28,
     "metadata": {},
     "output_type": "execute_result"
    }
   ],
   "source": [
    "df_merged.isna().sum()"
   ]
  },
  {
   "cell_type": "markdown",
   "metadata": {},
   "source": [
    "Ahora lo que hacemos es llenar los vacíos de los nombres con el que les corresponda según el diccionario generado para cada columna. Hacemos un map, el cual nos llenará los valores si los encuentra, y si no, asignará un vacío a la celda. Esto supone un problema, pero lo podemos solucionar fácilmente si aplicamos posteriormente un fillna, que rellenará los vacíos generados con el map con sus valores originales, y los que fueron rellenados mantendrán su estado de rellenado."
   ]
  },
  {
   "cell_type": "code",
   "execution_count": 29,
   "metadata": {},
   "outputs": [],
   "source": [
    "df_merged['organ_name'] = df_merged['organ_code'].map(organ_dict).fillna(df_merged['organ_name'])\n",
    "df_merged['name_superior_body'] = df_merged['superior_body_code'].map(superior_body_dict).fillna(df_merged['name_superior_body'])\n",
    "df_merged['name_management_unit'] = df_merged['management_unit_code'].map(management_dict).fillna(df_merged['name_management_unit'])"
   ]
  },
  {
   "cell_type": "markdown",
   "metadata": {},
   "source": [
    "Podemos comprobar que los vacíos en las columnas de los nombres han disminuido significativamente."
   ]
  },
  {
   "cell_type": "code",
   "execution_count": 30,
   "metadata": {},
   "outputs": [
    {
     "data": {
      "text/plain": [
       "superior_body_code         30359\n",
       "name_superior_body         10545\n",
       "organ_code                 25117\n",
       "organ_name                   905\n",
       "management_unit_code       33581\n",
       "name_management_unit         614\n",
       "economy_category           18978\n",
       "source_revenue             38418\n",
       "recipe_species             31927\n",
       "detailing                  29337\n",
       "updated_estimated_value    51315\n",
       "value_launched             26419\n",
       "realized_value             39465\n",
       "percentage_realized        24134\n",
       "release_date               23831\n",
       "financial_year                 0\n",
       "dtype: int64"
      ]
     },
     "execution_count": 30,
     "metadata": {},
     "output_type": "execute_result"
    }
   ],
   "source": [
    "df_merged.isna().sum()"
   ]
  },
  {
   "cell_type": "markdown",
   "metadata": {},
   "source": [
    "Ahora podemos fijarnos que podría pasar lo mismo para los códigos de las entidades: existen nombre pero hay valores nulos en su código. Lo bueno es que al haber generado los diccionarios donde se asocian ambas solo necesitamos invertir las keys y los valores de los diccionarios generados antes y volver a aplicar el mismo método para las columnas con los códigos, esta vez buscando los nombres de cada entidad de cada fila en el diccionario nuevo."
   ]
  },
  {
   "cell_type": "code",
   "execution_count": 31,
   "metadata": {},
   "outputs": [],
   "source": [
    "organ_name_to_code = {value: key for key, value in organ_dict.items()}\n",
    "superior_body_name_to_code = {value: key for key, value in superior_body_dict.items()}\n",
    "management_unit_name_to_code = {value: key for key, value in management_dict.items()}"
   ]
  },
  {
   "cell_type": "code",
   "execution_count": 32,
   "metadata": {},
   "outputs": [],
   "source": [
    "df_merged['organ_code'] = df_merged['organ_name'].map(organ_name_to_code).fillna(df_merged['organ_code'])\n",
    "df_merged['superior_body_code'] = df_merged['name_superior_body'].map(superior_body_name_to_code).fillna(df_merged['superior_body_code'])\n",
    "df_merged['management_unit_code'] = df_merged['name_management_unit'].map(management_unit_name_to_code).fillna(df_merged['management_unit_code'])"
   ]
  },
  {
   "cell_type": "markdown",
   "metadata": {},
   "source": [
    "Podemos comprobar de nuevo que los vacíos han sido reducidos sustancialmente."
   ]
  },
  {
   "cell_type": "code",
   "execution_count": 33,
   "metadata": {},
   "outputs": [
    {
     "data": {
      "text/plain": [
       "superior_body_code         10545\n",
       "name_superior_body         10545\n",
       "organ_code                   905\n",
       "organ_name                   905\n",
       "management_unit_code         614\n",
       "name_management_unit         614\n",
       "economy_category           18978\n",
       "source_revenue             38418\n",
       "recipe_species             31927\n",
       "detailing                  29337\n",
       "updated_estimated_value    51315\n",
       "value_launched             26419\n",
       "realized_value             39465\n",
       "percentage_realized        24134\n",
       "release_date               23831\n",
       "financial_year                 0\n",
       "dtype: int64"
      ]
     },
     "execution_count": 33,
     "metadata": {},
     "output_type": "execute_result"
    }
   ],
   "source": [
    "df_merged.isna().sum()"
   ]
  },
  {
   "cell_type": "markdown",
   "metadata": {},
   "source": [
    "Ahora podemos comprobar que los vacíos existentes son aquellos donde ambas columnas de nombre y código se encuentran vacías, por lo que nuestro método no ha encontrado ningún valor para ninguna de estas."
   ]
  },
  {
   "cell_type": "code",
   "execution_count": 34,
   "metadata": {},
   "outputs": [
    {
     "data": {
      "text/plain": [
       "10545"
      ]
     },
     "execution_count": 34,
     "metadata": {},
     "output_type": "execute_result"
    }
   ],
   "source": [
    "df_merged[[\"superior_body_code\", \"name_superior_body\"]].isna().all(axis = 1).sum()"
   ]
  },
  {
   "cell_type": "code",
   "execution_count": 35,
   "metadata": {},
   "outputs": [],
   "source": [
    "valores = df_merged.columns[df_merged.columns.str.contains(\"value\")].values"
   ]
  },
  {
   "cell_type": "code",
   "execution_count": 36,
   "metadata": {},
   "outputs": [],
   "source": [
    "def decimal_point_conv(data, columns):\n",
    "    for col in columns:\n",
    "        data[col] = data[col].str.replace(\",\",\".\").apply(float).abs().round(2)"
   ]
  },
  {
   "cell_type": "code",
   "execution_count": 37,
   "metadata": {},
   "outputs": [],
   "source": [
    "decimal_point_conv(df_merged, valores)"
   ]
  },
  {
   "cell_type": "code",
   "execution_count": 38,
   "metadata": {},
   "outputs": [],
   "source": [
    "decimal_point_conv(df_merged, [\"percentage_realized\"])"
   ]
  },
  {
   "cell_type": "markdown",
   "metadata": {},
   "source": [
    "Creamos una función que nos diga si hay fechas inconsistentes entre años. Esta consistirá en comparar los nulos de la columna de fechas con valores donde la columna año no coincida con el año en la de fechas. Si todas dan 0 significa que todas tienen las fechas bien (o bien vacías)."
   ]
  },
  {
   "cell_type": "code",
   "execution_count": 39,
   "metadata": {},
   "outputs": [],
   "source": [
    "def check_date_consistency(dataframe_list):\n",
    "    diffs = []\n",
    "    for df in dataframe_list:\n",
    "        years_from_date = pd.to_datetime(df[\"DATA LANÇAMENTO\"], format=\"%d/%m/%Y\").dt.year\n",
    "        years = df[\"ANO EXERCÍCIO\"]\n",
    "        boolean_series = years != years_from_date\n",
    "        sum_bool = boolean_series.sum()\n",
    "        nas = df[\"DATA LANÇAMENTO\"].isna().sum()\n",
    "        diff = sum_bool-nas\n",
    "        diffs.append(diff)\n",
    "    return diffs\n"
   ]
  },
  {
   "cell_type": "markdown",
   "metadata": {},
   "source": [
    "Vemos que de hecho todas las fechas están en el año que les corresponde."
   ]
  },
  {
   "cell_type": "code",
   "execution_count": 40,
   "metadata": {},
   "outputs": [
    {
     "data": {
      "text/plain": [
       "[0, 0, 0, 0, 0, 0, 0, 0, 0]"
      ]
     },
     "execution_count": 40,
     "metadata": {},
     "output_type": "execute_result"
    }
   ],
   "source": [
    "check_date_consistency(dfs)"
   ]
  },
  {
   "cell_type": "code",
   "execution_count": 41,
   "metadata": {},
   "outputs": [],
   "source": [
    "df_merged[\"release_date\"] = pd.to_datetime(df_merged[\"release_date\"], format = \"%d/%m/%Y\")"
   ]
  },
  {
   "cell_type": "markdown",
   "metadata": {},
   "source": [
    "Comprobemos ahora que todas las columnas mantienen un formato correcto."
   ]
  },
  {
   "cell_type": "code",
   "execution_count": 46,
   "metadata": {},
   "outputs": [
    {
     "data": {
      "text/plain": [
       "superior_body_code                float64\n",
       "name_superior_body                 object\n",
       "organ_code                        float64\n",
       "organ_name                         object\n",
       "management_unit_code              float64\n",
       "name_management_unit               object\n",
       "economy_category                   object\n",
       "source_revenue                     object\n",
       "recipe_species                     object\n",
       "detailing                          object\n",
       "updated_estimated_value           float64\n",
       "value_launched                    float64\n",
       "realized_value                    float64\n",
       "percentage_realized               float64\n",
       "release_date               datetime64[ns]\n",
       "financial_year                    float64\n",
       "dtype: object"
      ]
     },
     "execution_count": 46,
     "metadata": {},
     "output_type": "execute_result"
    }
   ],
   "source": [
    "df_merged.dtypes"
   ]
  },
  {
   "cell_type": "markdown",
   "metadata": {},
   "source": [
    "Por último guardamos en un nuevo csv."
   ]
  },
  {
   "cell_type": "code",
   "execution_count": 43,
   "metadata": {},
   "outputs": [],
   "source": [
    "df_merged.to_csv(\"../datos/df_merged.csv\")"
   ]
  }
 ],
 "metadata": {
  "kernelspec": {
   "display_name": "Python 3",
   "language": "python",
   "name": "python3"
  },
  "language_info": {
   "codemirror_mode": {
    "name": "ipython",
    "version": 3
   },
   "file_extension": ".py",
   "mimetype": "text/x-python",
   "name": "python",
   "nbconvert_exporter": "python",
   "pygments_lexer": "ipython3",
   "version": "3.11.9"
  }
 },
 "nbformat": 4,
 "nbformat_minor": 2
}
